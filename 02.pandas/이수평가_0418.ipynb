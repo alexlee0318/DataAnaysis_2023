{
 "cells": [
  {
   "cell_type": "code",
   "execution_count": 239,
   "metadata": {},
   "outputs": [],
   "source": [
    "import pandas as pd\n",
    "import numpy as np"
   ]
  },
  {
   "cell_type": "code",
   "execution_count": null,
   "metadata": {},
   "outputs": [],
   "source": [
    "# 2-1) 법정동코드 전체자료.txt를 파일로부터 읽어서 데이터프레임으로 만드세요.\n",
    "df = pd.read_csv('data/법정동코드 전체자료.txt', encoding='euc=kr', sep='\\t')\n",
    "df.head(3)\n",
    "\n",
    "\n",
    "# 2-2) 현재 존재하는 경기도 수원시 데이터만 추출하세요.\n",
    "\n",
    "df1 = df[df.폐지여부 == '존재'] \n",
    "df2 = df1[df1.법정동명.str.contains('경기도 수원시')]\n",
    "df2.head()\n",
    "\n",
    "\n",
    "# 2-3) 수원시 장안구에 있는 동의 이름을 추출하세요.\n",
    "df3 = df2[(df2.법정동명.str.contains('수원시 장안구')) & ~(df.법정동명.str =='경기도 수원시 장안구')]\n",
    "df3.법정동명.str[-3:].head(20)"
   ]
  },
  {
   "attachments": {},
   "cell_type": "markdown",
   "metadata": {},
   "source": [
    " 1) 열의 개수와 행의 개수가 각각 5개 이상이고, 데이터는 10에서 99까지 임의의\n",
    "     정수인 데이터프레임을 만드세요.\n",
    "\n",
    "  2) 열의 이름은 V, W, X, Y, Z 이고 행의 이름은 a, b, c, d, e 으로 만든다.\n",
    "\n",
    "  3) 정 가운데에 있는 데이터를 인덱싱하려고 한다. \n",
    "     10개 이상의 방법으로 인덱싱하세요."
   ]
  },
  {
   "cell_type": "code",
   "execution_count": 289,
   "metadata": {},
   "outputs": [
    {
     "data": {
      "text/html": [
       "<div>\n",
       "<style scoped>\n",
       "    .dataframe tbody tr th:only-of-type {\n",
       "        vertical-align: middle;\n",
       "    }\n",
       "\n",
       "    .dataframe tbody tr th {\n",
       "        vertical-align: top;\n",
       "    }\n",
       "\n",
       "    .dataframe thead th {\n",
       "        text-align: right;\n",
       "    }\n",
       "</style>\n",
       "<table border=\"1\" class=\"dataframe\">\n",
       "  <thead>\n",
       "    <tr style=\"text-align: right;\">\n",
       "      <th></th>\n",
       "      <th>V</th>\n",
       "      <th>W</th>\n",
       "      <th>X</th>\n",
       "      <th>Y</th>\n",
       "      <th>Z</th>\n",
       "    </tr>\n",
       "  </thead>\n",
       "  <tbody>\n",
       "    <tr>\n",
       "      <th>a</th>\n",
       "      <td>54</td>\n",
       "      <td>52</td>\n",
       "      <td>38</td>\n",
       "      <td>77</td>\n",
       "      <td>57</td>\n",
       "    </tr>\n",
       "    <tr>\n",
       "      <th>b</th>\n",
       "      <td>66</td>\n",
       "      <td>23</td>\n",
       "      <td>41</td>\n",
       "      <td>61</td>\n",
       "      <td>51</td>\n",
       "    </tr>\n",
       "    <tr>\n",
       "      <th>c</th>\n",
       "      <td>78</td>\n",
       "      <td>76</td>\n",
       "      <td>13</td>\n",
       "      <td>46</td>\n",
       "      <td>69</td>\n",
       "    </tr>\n",
       "    <tr>\n",
       "      <th>d</th>\n",
       "      <td>46</td>\n",
       "      <td>61</td>\n",
       "      <td>55</td>\n",
       "      <td>80</td>\n",
       "      <td>27</td>\n",
       "    </tr>\n",
       "    <tr>\n",
       "      <th>e</th>\n",
       "      <td>54</td>\n",
       "      <td>47</td>\n",
       "      <td>30</td>\n",
       "      <td>13</td>\n",
       "      <td>33</td>\n",
       "    </tr>\n",
       "  </tbody>\n",
       "</table>\n",
       "</div>"
      ],
      "text/plain": [
       "    V   W   X   Y   Z\n",
       "a  54  52  38  77  57\n",
       "b  66  23  41  61  51\n",
       "c  78  76  13  46  69\n",
       "d  46  61  55  80  27\n",
       "e  54  47  30  13  33"
      ]
     },
     "execution_count": 289,
     "metadata": {},
     "output_type": "execute_result"
    }
   ],
   "source": [
    "#  1) 열의 개수와 행의 개수가 각각 5개 이상이고, 데이터는 10에서 99까지 임의 정수인 데이터프레임을 만드세요.\n",
    "# 2) 열의 이름은 V, W, X, Y, Z 이고 행의 이름은 a, b, c, d, e 으로 만든다.\n",
    "df = pd.DataFrame(\n",
    "    np.random.randint(10, 100, 25).reshape(5, 5),\n",
    "    columns=list('VWXYZ'), index=list('abcde')\n",
    ")\n",
    "df"
   ]
  },
  {
   "cell_type": "code",
   "execution_count": 263,
   "metadata": {},
   "outputs": [
    {
     "data": {
      "text/plain": [
       "74"
      ]
     },
     "execution_count": 263,
     "metadata": {},
     "output_type": "execute_result"
    }
   ],
   "source": [
    "# 2) 가운데값 출력_열 기준\n",
    "df.X.c, df.X['c'], df['X']['c'], df['X'].c, df.X[2], df['X'][2]\n",
    "\n",
    "# 가운데값 출력_[:]_행 기준\n",
    "df[2:3]['X'][0], df[2:3].X[0], df[-3:]['X'][0], df[:]['X'][2]"
   ]
  },
  {
   "cell_type": "code",
   "execution_count": 243,
   "metadata": {},
   "outputs": [
    {
     "data": {
      "text/plain": [
       "(74, 74, 74, 74)"
      ]
     },
     "execution_count": 243,
     "metadata": {},
     "output_type": "execute_result"
    }
   ],
   "source": [
    "# 가운데값 출력 _loc_행기준\n",
    "df.loc['c','X'], df.loc['c']['X'], df.loc['c'].X, df.loc['c'][2]\n",
    "\n",
    "# 가운데값 출력 _iloc_행기준\n",
    "df.iloc[2,2], df.iloc[2][2], df.iloc[2]['X'], df.iloc[2].X"
   ]
  },
  {
   "cell_type": "code",
   "execution_count": 291,
   "metadata": {},
   "outputs": [
    {
     "data": {
      "text/plain": [
       "a    278\n",
       "b    242\n",
       "c    282\n",
       "d    269\n",
       "e    177\n",
       "dtype: int64"
      ]
     },
     "execution_count": 291,
     "metadata": {},
     "output_type": "execute_result"
    }
   ],
   "source": [
    "# 각 행, 열의 합계\n",
    "# 열방향(행의 합계)_'총점' 열 생성\n",
    "# '평균' 열 새로 만들기\n",
    "# '평균2'열 만들기(다른 방법)\n",
    "# 행 추가 방법(행 추가는 잘 쓰이지 않음)\n",
    "\n",
    "df.sum(axis=1)"
   ]
  },
  {
   "cell_type": "code",
   "execution_count": null,
   "metadata": {},
   "outputs": [],
   "source": []
  },
  {
   "cell_type": "code",
   "execution_count": 281,
   "metadata": {},
   "outputs": [
    {
     "data": {
      "text/html": [
       "<div>\n",
       "<style scoped>\n",
       "    .dataframe tbody tr th:only-of-type {\n",
       "        vertical-align: middle;\n",
       "    }\n",
       "\n",
       "    .dataframe tbody tr th {\n",
       "        vertical-align: top;\n",
       "    }\n",
       "\n",
       "    .dataframe thead th {\n",
       "        text-align: right;\n",
       "    }\n",
       "</style>\n",
       "<table border=\"1\" class=\"dataframe\">\n",
       "  <thead>\n",
       "    <tr style=\"text-align: right;\">\n",
       "      <th></th>\n",
       "      <th>survived</th>\n",
       "      <th>pclass</th>\n",
       "      <th>sex</th>\n",
       "      <th>age</th>\n",
       "      <th>sibsp</th>\n",
       "      <th>parch</th>\n",
       "      <th>fare</th>\n",
       "      <th>embarked</th>\n",
       "      <th>class</th>\n",
       "      <th>who</th>\n",
       "      <th>adult_male</th>\n",
       "      <th>deck</th>\n",
       "      <th>embark_town</th>\n",
       "      <th>alive</th>\n",
       "      <th>alone</th>\n",
       "    </tr>\n",
       "  </thead>\n",
       "  <tbody>\n",
       "    <tr>\n",
       "      <th>0</th>\n",
       "      <td>0</td>\n",
       "      <td>3</td>\n",
       "      <td>male</td>\n",
       "      <td>22.0</td>\n",
       "      <td>1</td>\n",
       "      <td>0</td>\n",
       "      <td>7.2500</td>\n",
       "      <td>S</td>\n",
       "      <td>Third</td>\n",
       "      <td>man</td>\n",
       "      <td>True</td>\n",
       "      <td>NaN</td>\n",
       "      <td>Southampton</td>\n",
       "      <td>no</td>\n",
       "      <td>False</td>\n",
       "    </tr>\n",
       "    <tr>\n",
       "      <th>1</th>\n",
       "      <td>1</td>\n",
       "      <td>1</td>\n",
       "      <td>female</td>\n",
       "      <td>38.0</td>\n",
       "      <td>1</td>\n",
       "      <td>0</td>\n",
       "      <td>71.2833</td>\n",
       "      <td>C</td>\n",
       "      <td>First</td>\n",
       "      <td>woman</td>\n",
       "      <td>False</td>\n",
       "      <td>C</td>\n",
       "      <td>Cherbourg</td>\n",
       "      <td>yes</td>\n",
       "      <td>False</td>\n",
       "    </tr>\n",
       "  </tbody>\n",
       "</table>\n",
       "</div>"
      ],
      "text/plain": [
       "   survived  pclass     sex   age  sibsp  parch     fare embarked  class   \n",
       "0         0       3    male  22.0      1      0   7.2500        S  Third  \\\n",
       "1         1       1  female  38.0      1      0  71.2833        C  First   \n",
       "\n",
       "     who  adult_male deck  embark_town alive  alone  \n",
       "0    man        True  NaN  Southampton    no  False  \n",
       "1  woman       False    C    Cherbourg   yes  False  "
      ]
     },
     "execution_count": 281,
     "metadata": {},
     "output_type": "execute_result"
    }
   ],
   "source": [
    "import seaborn as sns\n",
    "tt = sns.load_dataset('titanic')\n",
    "tt.head(2)"
   ]
  },
  {
   "cell_type": "code",
   "execution_count": 282,
   "metadata": {},
   "outputs": [
    {
     "data": {
      "text/plain": [
       "(0, (889, 14))"
      ]
     },
     "execution_count": 282,
     "metadata": {},
     "output_type": "execute_result"
    }
   ],
   "source": [
    "# 1) 결측치를 찾아서 결측치를 제거 또는 대체하고, 그 이유를 간단히 적으세요.\n",
    "tt.isna().sum()\n",
    "tt.isna().sum().sum()\n",
    "\n",
    "# 'deck'열: 열 전체 제거(결측치가 너무 많아 비정상 데이터로 판단)\n",
    "tt.drop(columns=['deck'], inplace=True)\n",
    "\n",
    "# 'age'열: 평균값으로 대체하여 사용(결측치가 전체의 20%정도이므로 양호함)\n",
    "tt.age.fillna(tt.age.mean().round(2), inplace=True)\n",
    "\n",
    "# 'embarked'열: 최빈값으로 대체(결측치 값이 매우 적어서 대체해도 영향력 거의 없음 흔한 값으로 대체)\n",
    "tt.embarked.value_counts()\n",
    "tt.embarked.fillna('S', inplace=True)\n",
    "# tt.embarked.value_counts()\n",
    "\n",
    "# embark_town열: 결측치가 있는 행 전체를 삭제(해당 행 전체가 결측치임)\n",
    "tt.dropna(subset=['embark_town'], inplace=True)\n",
    "# tt.isna().sum().sum()\n",
    "\n",
    "\n",
    "tt.isna().sum().sum(), tt.shape"
   ]
  },
  {
   "cell_type": "code",
   "execution_count": 275,
   "metadata": {},
   "outputs": [
    {
     "data": {
      "text/html": [
       "<div>\n",
       "<style scoped>\n",
       "    .dataframe tbody tr th:only-of-type {\n",
       "        vertical-align: middle;\n",
       "    }\n",
       "\n",
       "    .dataframe tbody tr th {\n",
       "        vertical-align: top;\n",
       "    }\n",
       "\n",
       "    .dataframe thead th {\n",
       "        text-align: right;\n",
       "    }\n",
       "</style>\n",
       "<table border=\"1\" class=\"dataframe\">\n",
       "  <thead>\n",
       "    <tr style=\"text-align: right;\">\n",
       "      <th></th>\n",
       "      <th>ages</th>\n",
       "      <th>age_cat</th>\n",
       "      <th>age_q</th>\n",
       "    </tr>\n",
       "  </thead>\n",
       "  <tbody>\n",
       "    <tr>\n",
       "      <th>0</th>\n",
       "      <td>0</td>\n",
       "      <td>NaN</td>\n",
       "      <td>Q1</td>\n",
       "    </tr>\n",
       "    <tr>\n",
       "      <th>1</th>\n",
       "      <td>2</td>\n",
       "      <td>미성년자</td>\n",
       "      <td>Q1</td>\n",
       "    </tr>\n",
       "    <tr>\n",
       "      <th>2</th>\n",
       "      <td>10</td>\n",
       "      <td>미성년자</td>\n",
       "      <td>Q1</td>\n",
       "    </tr>\n",
       "    <tr>\n",
       "      <th>3</th>\n",
       "      <td>21</td>\n",
       "      <td>청중년</td>\n",
       "      <td>Q2</td>\n",
       "    </tr>\n",
       "    <tr>\n",
       "      <th>4</th>\n",
       "      <td>23</td>\n",
       "      <td>청중년</td>\n",
       "      <td>Q2</td>\n",
       "    </tr>\n",
       "    <tr>\n",
       "      <th>5</th>\n",
       "      <td>37</td>\n",
       "      <td>청중년</td>\n",
       "      <td>Q3</td>\n",
       "    </tr>\n",
       "    <tr>\n",
       "      <th>6</th>\n",
       "      <td>31</td>\n",
       "      <td>청중년</td>\n",
       "      <td>Q2</td>\n",
       "    </tr>\n",
       "    <tr>\n",
       "      <th>7</th>\n",
       "      <td>61</td>\n",
       "      <td>장노년</td>\n",
       "      <td>Q3</td>\n",
       "    </tr>\n",
       "    <tr>\n",
       "      <th>8</th>\n",
       "      <td>20</td>\n",
       "      <td>미성년자</td>\n",
       "      <td>Q1</td>\n",
       "    </tr>\n",
       "    <tr>\n",
       "      <th>9</th>\n",
       "      <td>41</td>\n",
       "      <td>청중년</td>\n",
       "      <td>Q3</td>\n",
       "    </tr>\n",
       "    <tr>\n",
       "      <th>10</th>\n",
       "      <td>32</td>\n",
       "      <td>청중년</td>\n",
       "      <td>Q2</td>\n",
       "    </tr>\n",
       "    <tr>\n",
       "      <th>11</th>\n",
       "      <td>101</td>\n",
       "      <td>NaN</td>\n",
       "      <td>Q3</td>\n",
       "    </tr>\n",
       "  </tbody>\n",
       "</table>\n",
       "</div>"
      ],
      "text/plain": [
       "    ages age_cat age_q\n",
       "0      0     NaN    Q1\n",
       "1      2    미성년자    Q1\n",
       "2     10    미성년자    Q1\n",
       "3     21     청중년    Q2\n",
       "4     23     청중년    Q2\n",
       "5     37     청중년    Q3\n",
       "6     31     청중년    Q2\n",
       "7     61     장노년    Q3\n",
       "8     20    미성년자    Q1\n",
       "9     41     청중년    Q3\n",
       "10    32     청중년    Q2\n",
       "11   101     NaN    Q3"
      ]
     },
     "execution_count": 275,
     "metadata": {},
     "output_type": "execute_result"
    }
   ],
   "source": [
    "# 2) 나이의 결측치를 중앙값으로 대체한 후 qcut을 이용하여 나이에 따라 3개의 그룹으로 나누세요.\n",
    "tt.age.fillna(tt.age.median(), inplace=True)\n",
    "\n",
    "bins = [1, 20, 50, 100]     # 기준 입력_  1 < 미성년자 <= 20\n",
    "labels = [\"미성년자\", \"청중년\", \"장노년\"]\n",
    "cats = pd.cut(ages, bins, labels=labels)\n",
    "cats\n",
    "\n",
    "\n",
    "tt = pd.DataFrame(ages, columns=[\"ages\"])\n",
    "tt[\"age_cat\"] = pd.cut(tt.ages, bins, labels=labels)\n",
    "tt\n",
    "\n",
    "tt['age_q'] = pd.qcut(ages, 3, labels=['Q1', 'Q2','Q3'])\n",
    "tt"
   ]
  },
  {
   "cell_type": "code",
   "execution_count": null,
   "metadata": {},
   "outputs": [],
   "source": [
    "# 3) 성별과 embark_town에 따른 생존율을 구하세요.\n"
   ]
  },
  {
   "cell_type": "code",
   "execution_count": 287,
   "metadata": {},
   "outputs": [
    {
     "data": {
      "text/plain": [
       "30.51"
      ]
     },
     "execution_count": 287,
     "metadata": {},
     "output_type": "execute_result"
    }
   ],
   "source": [
    "# 4) 타이타닉 탑승객의 성별에 따른 평균 나이를 구하세요.\n",
    "tt[tt.sex == 'female'].age.mean().round(2)\n",
    "tt[tt.sex == 'male'].age.mean().round(2)"
   ]
  },
  {
   "cell_type": "code",
   "execution_count": null,
   "metadata": {},
   "outputs": [],
   "source": []
  }
 ],
 "metadata": {
  "kernelspec": {
   "display_name": "base",
   "language": "python",
   "name": "python3"
  },
  "language_info": {
   "codemirror_mode": {
    "name": "ipython",
    "version": 3
   },
   "file_extension": ".py",
   "mimetype": "text/x-python",
   "name": "python",
   "nbconvert_exporter": "python",
   "pygments_lexer": "ipython3",
   "version": "3.10.10"
  },
  "orig_nbformat": 4
 },
 "nbformat": 4,
 "nbformat_minor": 2
}
