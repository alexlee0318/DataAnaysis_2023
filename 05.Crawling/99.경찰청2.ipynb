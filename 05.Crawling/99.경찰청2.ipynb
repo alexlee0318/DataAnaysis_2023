{
 "cells": [
  {
   "cell_type": "code",
   "execution_count": 1,
   "metadata": {},
   "outputs": [],
   "source": [
    "import requests, folium\n",
    "import pandas as pd\n",
    "from tqdm import tqdm\n",
    "from urllib.parse import quote\n",
    "from bs4 import BeautifulSoup"
   ]
  },
  {
   "cell_type": "code",
   "execution_count": 2,
   "metadata": {},
   "outputs": [],
   "source": [
    "url = 'https://www.ggpolice.go.kr/main/html.do?menu=HC44'\n",
    "res = requests.get(url)\n",
    "soup = BeautifulSoup(res.text, 'html.parser')"
   ]
  },
  {
   "cell_type": "code",
   "execution_count": 3,
   "metadata": {},
   "outputs": [
    {
     "data": {
      "text/plain": [
       "31"
      ]
     },
     "execution_count": 3,
     "metadata": {},
     "output_type": "execute_result"
    }
   ],
   "source": [
    "lis = soup.select('li.road')\n",
    "len(lis)"
   ]
  },
  {
   "attachments": {},
   "cell_type": "markdown",
   "metadata": {},
   "source": [
    "- Step 3"
   ]
  },
  {
   "cell_type": "code",
   "execution_count": 4,
   "metadata": {},
   "outputs": [
    {
     "data": {
      "text/plain": [
       "('수원중부서', 'https://www.ggpolice.go.kr/swjb/html.do?menu=HC24')"
      ]
     },
     "execution_count": 4,
     "metadata": {},
     "output_type": "execute_result"
    }
   ],
   "source": [
    "li = lis[0]\n",
    "name = li.find('a').string.strip()\n",
    "href = li.find('a')['href']\n",
    "name, href"
   ]
  },
  {
   "cell_type": "code",
   "execution_count": 5,
   "metadata": {},
   "outputs": [],
   "source": [
    "sub_res = requests.get(href)\n",
    "sub_soup = BeautifulSoup(sub_res.text, 'html.parser')"
   ]
  },
  {
   "cell_type": "code",
   "execution_count": 6,
   "metadata": {},
   "outputs": [
    {
     "data": {
      "text/plain": [
       "3"
      ]
     },
     "execution_count": 6,
     "metadata": {},
     "output_type": "execute_result"
    }
   ],
   "source": [
    "sub_lis = sub_soup.select('.basic_list7 > li')\n",
    "len(sub_lis)"
   ]
  },
  {
   "cell_type": "code",
   "execution_count": 10,
   "metadata": {},
   "outputs": [
    {
     "data": {
      "text/plain": [
       "('수원중부경찰서', '경기도 수원시 장안구 정자천로 199')"
      ]
     },
     "execution_count": 10,
     "metadata": {},
     "output_type": "execute_result"
    }
   ],
   "source": [
    "name = sub_lis[0].get_text().strip()[6:]\n",
    "addr = sub_lis[1].get_text().strip()[9:-9]\n",
    "name, addr"
   ]
  },
  {
   "attachments": {},
   "cell_type": "markdown",
   "metadata": {},
   "source": [
    "- Step 4"
   ]
  },
  {
   "cell_type": "code",
   "execution_count": 9,
   "metadata": {},
   "outputs": [
    {
     "ename": "IndexError",
     "evalue": "list index out of range",
     "output_type": "error",
     "traceback": [
      "\u001b[1;31m---------------------------------------------------------------------------\u001b[0m",
      "\u001b[1;31mIndexError\u001b[0m                                Traceback (most recent call last)",
      "Cell \u001b[1;32mIn[9], line 8\u001b[0m\n\u001b[0;32m      6\u001b[0m sub_soup \u001b[39m=\u001b[39m BeautifulSoup(sub_res\u001b[39m.\u001b[39mtext, \u001b[39m'\u001b[39m\u001b[39mhtml.parser\u001b[39m\u001b[39m'\u001b[39m)\n\u001b[0;32m      7\u001b[0m sub_lis \u001b[39m=\u001b[39m sub_soup\u001b[39m.\u001b[39mselect(\u001b[39m'\u001b[39m\u001b[39m.basic_list7 > li\u001b[39m\u001b[39m'\u001b[39m)\n\u001b[1;32m----> 8\u001b[0m name \u001b[39m=\u001b[39m sub_lis[\u001b[39m0\u001b[39;49m]\u001b[39m.\u001b[39mget_text()\u001b[39m.\u001b[39mstrip()[\u001b[39m6\u001b[39m:]\n\u001b[0;32m      9\u001b[0m addr \u001b[39m=\u001b[39m sub_lis[\u001b[39m1\u001b[39m]\u001b[39m.\u001b[39mget_text()\u001b[39m.\u001b[39mstrip()[\u001b[39m9\u001b[39m:\u001b[39m-\u001b[39m\u001b[39m9\u001b[39m]\n\u001b[0;32m     10\u001b[0m lines\u001b[39m.\u001b[39mappend({\u001b[39m'\u001b[39m\u001b[39m경찰서\u001b[39m\u001b[39m'\u001b[39m:name, \u001b[39m'\u001b[39m\u001b[39m주소\u001b[39m\u001b[39m'\u001b[39m:addr})\n",
      "\u001b[1;31mIndexError\u001b[0m: list index out of range"
     ]
    }
   ],
   "source": [
    "# 평소대로 돌려보기- 에러\n",
    "lines = []\n",
    "for li in lis:\n",
    "    href = li.find('a')['href']\n",
    "    sub_res = requests.get(href)\n",
    "    sub_soup = BeautifulSoup(sub_res.text, 'html.parser')\n",
    "    sub_lis = sub_soup.select('.basic_list7 > li')\n",
    "    name = sub_lis[0].get_text().strip()[6:]\n",
    "    addr = sub_lis[1].get_text().strip()[9:-9]\n",
    "    lines.append({'경찰서':name, '주소':addr})"
   ]
  },
  {
   "attachments": {},
   "cell_type": "markdown",
   "metadata": {},
   "source": [
    "- step 5. 오류해결"
   ]
  },
  {
   "cell_type": "code",
   "execution_count": 10,
   "metadata": {},
   "outputs": [
    {
     "name": "stdout",
     "output_type": "stream",
     "text": [
      "6\n",
      "25\n"
     ]
    }
   ],
   "source": [
    "# 에러가 발생하는지 파악\n",
    "lines = []\n",
    "for index, li in enumerate(lis):    # for문에 추가 \n",
    "    try:\n",
    "        href = li.find('a')['href']\n",
    "        sub_res = requests.get(href)\n",
    "        sub_soup = BeautifulSoup(sub_res.text, 'html.parser')\n",
    "        sub_lis = sub_soup.select('.basic_list7 > li')\n",
    "        name = sub_lis[0].get_text().strip()[6:]\n",
    "        addr = sub_lis[1].get_text().strip()[9:-9]\n",
    "        lines.append({'name':name, 'addr':addr})\n",
    "    except:\n",
    "        print(index)\n",
    "#===> 문제의 원인(인덱스값) 출력"
   ]
  },
  {
   "cell_type": "code",
   "execution_count": 11,
   "metadata": {},
   "outputs": [
    {
     "name": "stdout",
     "output_type": "stream",
     "text": [
      "https://www.ggpolice.go.kr/gunpo/html.do?menu=HC24\n",
      "0\n"
     ]
    }
   ],
   "source": [
    "# 에러를 찾아서 해결\n",
    "# index 6(군포경찰서)을 찾아서 확인\n",
    "li = lis[6]\n",
    "href = li.find('a')['href']\n",
    "print(href)\n",
    "sub_res = requests.get(href)\n",
    "sub_soup = BeautifulSoup(sub_res.text, 'html.parser')\n",
    "sub_lis = sub_soup.select('.basic_list7 > li')\n",
    "print(len(sub_lis))\n",
    "# 정상: 3이 나와야함/ 비정상"
   ]
  },
  {
   "cell_type": "code",
   "execution_count": 12,
   "metadata": {},
   "outputs": [],
   "source": [
    "# \n",
    "lines = []\n",
    "for li in lis:\n",
    "    href = li.find('a')['href']\n",
    "    sub_res = requests.get(href)\n",
    "    sub_soup = BeautifulSoup(sub_res.text, 'html.parser')\n",
    "    sub_lis = sub_soup.select('.basic_list7 > li')\n",
    "    if len(sub_lis) == 0:\n",
    "        continue   # 0이면 밑의 작업 x 위로 돌아감\n",
    "\n",
    "    name = sub_lis[0].get_text().strip()[6:]\n",
    "    addr = sub_lis[1].get_text().strip()[9:-9]\n",
    "    lines.append({'경찰서': name, '주소':addr})"
   ]
  },
  {
   "cell_type": "code",
   "execution_count": 13,
   "metadata": {},
   "outputs": [],
   "source": [
    "# 정확한 원인을 찾지 못한 경우- just skip\n",
    "lines = []\n",
    "for li in lis:\n",
    "    try:\n",
    "        href = li.find('a')['href']\n",
    "        sub_res = requests.get(href)\n",
    "        sub_soup = BeautifulSoup(res.text, 'html.parser')\n",
    "        sub_li = sub_soup.select('.basic_list7 > li')\n",
    "        name = sub_lis[0].get_text().strip()[6:]\n",
    "        addr = sub_lis[1].get_text().strip()[9:-9]\n",
    "        lines.append({'경찰서': name, '주소':addr})\n",
    "    except:\n",
    "        continue"
   ]
  },
  {
   "cell_type": "markdown",
   "metadata": {},
   "source": [
    "- DF만들기"
   ]
  },
  {
   "cell_type": "code",
   "execution_count": 15,
   "metadata": {},
   "outputs": [
    {
     "data": {
      "text/html": [
       "<div>\n",
       "<style scoped>\n",
       "    .dataframe tbody tr th:only-of-type {\n",
       "        vertical-align: middle;\n",
       "    }\n",
       "\n",
       "    .dataframe tbody tr th {\n",
       "        vertical-align: top;\n",
       "    }\n",
       "\n",
       "    .dataframe thead th {\n",
       "        text-align: right;\n",
       "    }\n",
       "</style>\n",
       "<table border=\"1\" class=\"dataframe\">\n",
       "  <thead>\n",
       "    <tr style=\"text-align: right;\">\n",
       "      <th></th>\n",
       "      <th>경찰서</th>\n",
       "      <th>주소</th>\n",
       "    </tr>\n",
       "  </thead>\n",
       "  <tbody>\n",
       "    <tr>\n",
       "      <th>0</th>\n",
       "      <td>하남경찰서</td>\n",
       "      <td>경기 하남시 검단로 27</td>\n",
       "    </tr>\n",
       "    <tr>\n",
       "      <th>1</th>\n",
       "      <td>하남경찰서</td>\n",
       "      <td>경기 하남시 검단로 27</td>\n",
       "    </tr>\n",
       "    <tr>\n",
       "      <th>2</th>\n",
       "      <td>하남경찰서</td>\n",
       "      <td>경기 하남시 검단로 27</td>\n",
       "    </tr>\n",
       "    <tr>\n",
       "      <th>3</th>\n",
       "      <td>하남경찰서</td>\n",
       "      <td>경기 하남시 검단로 27</td>\n",
       "    </tr>\n",
       "    <tr>\n",
       "      <th>4</th>\n",
       "      <td>하남경찰서</td>\n",
       "      <td>경기 하남시 검단로 27</td>\n",
       "    </tr>\n",
       "  </tbody>\n",
       "</table>\n",
       "</div>"
      ],
      "text/plain": [
       "     경찰서             주소\n",
       "0  하남경찰서  경기 하남시 검단로 27\n",
       "1  하남경찰서  경기 하남시 검단로 27\n",
       "2  하남경찰서  경기 하남시 검단로 27\n",
       "3  하남경찰서  경기 하남시 검단로 27\n",
       "4  하남경찰서  경기 하남시 검단로 27"
      ]
     },
     "execution_count": 15,
     "metadata": {},
     "output_type": "execute_result"
    }
   ],
   "source": [
    "df = pd.DataFrame(lines)\n",
    "df.head()"
   ]
  },
  {
   "cell_type": "code",
   "execution_count": 18,
   "metadata": {},
   "outputs": [
    {
     "data": {
      "text/plain": [
       "1"
      ]
     },
     "execution_count": 18,
     "metadata": {},
     "output_type": "execute_result"
    }
   ],
   "source": [
    "# 중복여부 확인\n",
    "len(df.경찰서.unique())"
   ]
  },
  {
   "attachments": {},
   "cell_type": "markdown",
   "metadata": {},
   "source": [
    "```drop duplicate```"
   ]
  },
  {
   "cell_type": "code",
   "execution_count": 17,
   "metadata": {},
   "outputs": [
    {
     "ename": "KeyError",
     "evalue": "Index(['name'], dtype='object')",
     "output_type": "error",
     "traceback": [
      "\u001b[1;31m---------------------------------------------------------------------------\u001b[0m",
      "\u001b[1;31mKeyError\u001b[0m                                  Traceback (most recent call last)",
      "Cell \u001b[1;32mIn[17], line 2\u001b[0m\n\u001b[0;32m      1\u001b[0m \u001b[39m# 중복제거\u001b[39;00m\n\u001b[1;32m----> 2\u001b[0m df\u001b[39m.\u001b[39;49mdrop_duplicates(subset\u001b[39m=\u001b[39;49m\u001b[39m'\u001b[39;49m\u001b[39mname\u001b[39;49m\u001b[39m'\u001b[39;49m, inplace \u001b[39m=\u001b[39;49m \u001b[39mTrue\u001b[39;49;00m)\n\u001b[0;32m      3\u001b[0m df\u001b[39m.\u001b[39mshape\n",
      "File \u001b[1;32mc:\\Users\\YONSAI\\anaconda3\\lib\\site-packages\\pandas\\core\\frame.py:6530\u001b[0m, in \u001b[0;36mDataFrame.drop_duplicates\u001b[1;34m(self, subset, keep, inplace, ignore_index)\u001b[0m\n\u001b[0;32m   6527\u001b[0m inplace \u001b[39m=\u001b[39m validate_bool_kwarg(inplace, \u001b[39m\"\u001b[39m\u001b[39minplace\u001b[39m\u001b[39m\"\u001b[39m)\n\u001b[0;32m   6528\u001b[0m ignore_index \u001b[39m=\u001b[39m validate_bool_kwarg(ignore_index, \u001b[39m\"\u001b[39m\u001b[39mignore_index\u001b[39m\u001b[39m\"\u001b[39m)\n\u001b[1;32m-> 6530\u001b[0m result \u001b[39m=\u001b[39m \u001b[39mself\u001b[39m[\u001b[39m-\u001b[39m\u001b[39mself\u001b[39;49m\u001b[39m.\u001b[39;49mduplicated(subset, keep\u001b[39m=\u001b[39;49mkeep)]\n\u001b[0;32m   6531\u001b[0m \u001b[39mif\u001b[39;00m ignore_index:\n\u001b[0;32m   6532\u001b[0m     result\u001b[39m.\u001b[39mindex \u001b[39m=\u001b[39m default_index(\u001b[39mlen\u001b[39m(result))\n",
      "File \u001b[1;32mc:\\Users\\YONSAI\\anaconda3\\lib\\site-packages\\pandas\\core\\frame.py:6662\u001b[0m, in \u001b[0;36mDataFrame.duplicated\u001b[1;34m(self, subset, keep)\u001b[0m\n\u001b[0;32m   6660\u001b[0m diff \u001b[39m=\u001b[39m \u001b[39mset\u001b[39m(subset) \u001b[39m-\u001b[39m \u001b[39mset\u001b[39m(\u001b[39mself\u001b[39m\u001b[39m.\u001b[39mcolumns)\n\u001b[0;32m   6661\u001b[0m \u001b[39mif\u001b[39;00m diff:\n\u001b[1;32m-> 6662\u001b[0m     \u001b[39mraise\u001b[39;00m \u001b[39mKeyError\u001b[39;00m(Index(diff))\n\u001b[0;32m   6664\u001b[0m \u001b[39mif\u001b[39;00m \u001b[39mlen\u001b[39m(subset) \u001b[39m==\u001b[39m \u001b[39m1\u001b[39m \u001b[39mand\u001b[39;00m \u001b[39mself\u001b[39m\u001b[39m.\u001b[39mcolumns\u001b[39m.\u001b[39mis_unique:\n\u001b[0;32m   6665\u001b[0m     \u001b[39m# GH#45236 This is faster than get_group_index below\u001b[39;00m\n\u001b[0;32m   6666\u001b[0m     result \u001b[39m=\u001b[39m \u001b[39mself\u001b[39m[subset[\u001b[39m0\u001b[39m]]\u001b[39m.\u001b[39mduplicated(keep)\n",
      "\u001b[1;31mKeyError\u001b[0m: Index(['name'], dtype='object')"
     ]
    }
   ],
   "source": [
    "# 중복제거\n",
    "df.drop_duplicates(subset='name', inplace = True)\n",
    "df.shape"
   ]
  },
  {
   "attachments": {},
   "cell_type": "markdown",
   "metadata": {},
   "source": [
    "- 위도경도 불러오기"
   ]
  },
  {
   "attachments": {},
   "cell_type": "markdown",
   "metadata": {},
   "source": [
    "- 지도에 표시하기"
   ]
  }
 ],
 "metadata": {
  "kernelspec": {
   "display_name": "base",
   "language": "python",
   "name": "python3"
  },
  "language_info": {
   "codemirror_mode": {
    "name": "ipython",
    "version": 3
   },
   "file_extension": ".py",
   "mimetype": "text/x-python",
   "name": "python",
   "nbconvert_exporter": "python",
   "pygments_lexer": "ipython3",
   "version": "3.10.10"
  },
  "orig_nbformat": 4
 },
 "nbformat": 4,
 "nbformat_minor": 2
}
