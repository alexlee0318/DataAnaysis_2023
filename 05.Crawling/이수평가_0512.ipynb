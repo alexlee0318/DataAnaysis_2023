{
 "cells": [
  {
   "attachments": {},
   "cell_type": "markdown",
   "metadata": {},
   "source": [
    "[문항1] [배점:50]\n",
    "멜론차트 Top100(https://www.melon.com/chart/)을 크롤링을 하여\n",
    "\n",
    "1. 순위, 제목, 아티스트, 앨범, 앨범이미지 필드를 데이터프레임으로 만드세요.[20]\n",
    "\n",
    "2. 위에서 만든 데이터프레임을 멜론_23051211.csv 파일에 저장하세요.[10]   파일이름은 반드시 연월일시를 각각 2자리씩 표시하도록 해야 합니다.\n",
    "\n",
    "3. 웹 서버를 만들고 localhost:5000/melon을 주소창에 입력하면 멜론차트를\n",
    "   크롤링한 결과를 표로 보여주는 코드를 작성하고\n",
    "   결과 웹화면을 스캔해서 답안지에 포함하세요.[20]\n"
   ]
  },
  {
   "cell_type": "code",
   "execution_count": 1,
   "metadata": {},
   "outputs": [],
   "source": [
    "import requests\n",
    "from urllib.parse import quote  # 여기서는 필요없긴 함\n",
    "import pandas as pd # 결과는 DF로 볼 것이므로\n",
    "from bs4 import BeautifulSoup"
   ]
  },
  {
   "cell_type": "code",
   "execution_count": 2,
   "metadata": {},
   "outputs": [],
   "source": [
    "# https://www.genie.co.kr/chart/top200\n",
    "url = 'https://www.melon.com/chart/'\n",
    "result = requests.get(url)\n",
    "result.text\n",
    "\n",
    "# User-Agent(Crome)\n",
    "header = {'User-Agent': 'Mozilla/5.0 (Windows NT 10.0; Win64; x64) AppleWebKit/537.36 (KHTML, like Gecko)'}\n",
    "result = requests.get(url, headers=header)\n",
    "soup = BeautifulSoup(result.text, 'html.parser')"
   ]
  },
  {
   "cell_type": "code",
   "execution_count": 3,
   "metadata": {},
   "outputs": [
    {
     "data": {
      "text/plain": [
       "100"
      ]
     },
     "execution_count": 3,
     "metadata": {},
     "output_type": "execute_result"
    }
   ],
   "source": [
    "# lst 전부다 구하기\n",
    "# trs = soup.find_all('tr')\n",
    "trs = soup.select_one('tbody').find_all('tr')\n",
    "len(trs)"
   ]
  },
  {
   "cell_type": "code",
   "execution_count": 4,
   "metadata": {},
   "outputs": [
    {
     "data": {
      "text/plain": [
       "'1'"
      ]
     },
     "execution_count": 4,
     "metadata": {},
     "output_type": "execute_result"
    }
   ],
   "source": [
    "tr =trs[0]\n",
    "\n",
    "# rank\n",
    "rank = tr.select_one('.rank').get_text()\n",
    "rank\n"
   ]
  },
  {
   "cell_type": "code",
   "execution_count": 5,
   "metadata": {},
   "outputs": [
    {
     "data": {
      "text/plain": [
       "'I AM'"
      ]
     },
     "execution_count": 5,
     "metadata": {},
     "output_type": "execute_result"
    }
   ],
   "source": [
    "title = tr.select_one('.ellipsis.rank01').get_text().strip()\n",
    "title"
   ]
  },
  {
   "cell_type": "code",
   "execution_count": 6,
   "metadata": {},
   "outputs": [
    {
     "data": {
      "text/plain": [
       "'IVE (아이브)'"
      ]
     },
     "execution_count": 6,
     "metadata": {},
     "output_type": "execute_result"
    }
   ],
   "source": [
    "# artist = tr.select_one('.ellipsis.rank02').get_text().strip()\n",
    "artist = tr.select_one('.ellipsis.rank02').find('a').get_text().strip()\n",
    "artist"
   ]
  },
  {
   "cell_type": "code",
   "execution_count": 7,
   "metadata": {},
   "outputs": [
    {
     "data": {
      "text/plain": [
       "\"I've IVE\""
      ]
     },
     "execution_count": 7,
     "metadata": {},
     "output_type": "execute_result"
    }
   ],
   "source": [
    "# album\n",
    "album = tr.select_one('.ellipsis.rank03').find('a').get_text().strip()\n",
    "album"
   ]
  },
  {
   "cell_type": "code",
   "execution_count": 8,
   "metadata": {},
   "outputs": [
    {
     "data": {
      "text/plain": [
       "'https://cdnimg.melon.co.kr/cm2/album/images/112/11/297/11211297_20230410151046_500.jpg/melon/resize/120/quality/80/optimize'"
      ]
     },
     "execution_count": 8,
     "metadata": {},
     "output_type": "execute_result"
    }
   ],
   "source": [
    "img = tr.select_one('.wrap > a > img')['src']\n",
    "img\n",
    "#lst50 > td:nth-child(4) > div > a > img"
   ]
  },
  {
   "cell_type": "code",
   "execution_count": 9,
   "metadata": {},
   "outputs": [],
   "source": [
    "line=[]\n",
    "for tr in trs:\n",
    "    rank = tr.select_one('.rank').get_text()\n",
    "    img = tr.select_one('.wrap > a > img')['src']\n",
    "    title = tr.select_one('.ellipsis.rank01').get_text().strip()\n",
    "    artist = tr.select_one('.ellipsis.rank02').find('a').get_text().strip()\n",
    "    album = tr.select_one('.ellipsis.rank03').find('a').get_text().strip()\n",
    "    line.append({'rank':rank, 'img':img, 'title':title, 'artist': artist, 'album':album})"
   ]
  },
  {
   "cell_type": "code",
   "execution_count": 14,
   "metadata": {},
   "outputs": [
    {
     "data": {
      "text/html": [
       "<div>\n",
       "<style scoped>\n",
       "    .dataframe tbody tr th:only-of-type {\n",
       "        vertical-align: middle;\n",
       "    }\n",
       "\n",
       "    .dataframe tbody tr th {\n",
       "        vertical-align: top;\n",
       "    }\n",
       "\n",
       "    .dataframe thead th {\n",
       "        text-align: right;\n",
       "    }\n",
       "</style>\n",
       "<table border=\"1\" class=\"dataframe\">\n",
       "  <thead>\n",
       "    <tr style=\"text-align: right;\">\n",
       "      <th></th>\n",
       "      <th>rank</th>\n",
       "      <th>img</th>\n",
       "      <th>title</th>\n",
       "      <th>artist</th>\n",
       "      <th>album</th>\n",
       "    </tr>\n",
       "  </thead>\n",
       "  <tbody>\n",
       "    <tr>\n",
       "      <th>0</th>\n",
       "      <td>1</td>\n",
       "      <td>https://cdnimg.melon.co.kr/cm2/album/images/11...</td>\n",
       "      <td>I AM</td>\n",
       "      <td>IVE (아이브)</td>\n",
       "      <td>I've IVE</td>\n",
       "    </tr>\n",
       "    <tr>\n",
       "      <th>1</th>\n",
       "      <td>2</td>\n",
       "      <td>https://cdnimg.melon.co.kr/cm2/album/images/11...</td>\n",
       "      <td>UNFORGIVEN (feat. Nile Rodgers)</td>\n",
       "      <td>LE SSERAFIM (르세라핌)</td>\n",
       "      <td>UNFORGIVEN</td>\n",
       "    </tr>\n",
       "    <tr>\n",
       "      <th>2</th>\n",
       "      <td>3</td>\n",
       "      <td>https://cdnimg.melon.co.kr/cm2/album/images/11...</td>\n",
       "      <td>Kitsch</td>\n",
       "      <td>IVE (아이브)</td>\n",
       "      <td>I've IVE</td>\n",
       "    </tr>\n",
       "    <tr>\n",
       "      <th>3</th>\n",
       "      <td>4</td>\n",
       "      <td>https://cdnimg.melon.co.kr/cm2/album/images/11...</td>\n",
       "      <td>손오공</td>\n",
       "      <td>세븐틴 (SEVENTEEN)</td>\n",
       "      <td>SEVENTEEN 10th Mini Album ‘FML'</td>\n",
       "    </tr>\n",
       "    <tr>\n",
       "      <th>4</th>\n",
       "      <td>5</td>\n",
       "      <td>https://cdnimg.melon.co.kr/cm2/album/images/11...</td>\n",
       "      <td>Spicy</td>\n",
       "      <td>aespa</td>\n",
       "      <td>MY WORLD - The 3rd Mini Album</td>\n",
       "    </tr>\n",
       "  </tbody>\n",
       "</table>\n",
       "</div>"
      ],
      "text/plain": [
       "  rank                                                img   \n",
       "0    1  https://cdnimg.melon.co.kr/cm2/album/images/11...  \\\n",
       "1    2  https://cdnimg.melon.co.kr/cm2/album/images/11...   \n",
       "2    3  https://cdnimg.melon.co.kr/cm2/album/images/11...   \n",
       "3    4  https://cdnimg.melon.co.kr/cm2/album/images/11...   \n",
       "4    5  https://cdnimg.melon.co.kr/cm2/album/images/11...   \n",
       "\n",
       "                             title              artist   \n",
       "0                             I AM           IVE (아이브)  \\\n",
       "1  UNFORGIVEN (feat. Nile Rodgers)  LE SSERAFIM (르세라핌)   \n",
       "2                           Kitsch           IVE (아이브)   \n",
       "3                              손오공     세븐틴 (SEVENTEEN)   \n",
       "4                            Spicy               aespa   \n",
       "\n",
       "                             album  \n",
       "0                         I've IVE  \n",
       "1                       UNFORGIVEN  \n",
       "2                         I've IVE  \n",
       "3  SEVENTEEN 10th Mini Album ‘FML'  \n",
       "4    MY WORLD - The 3rd Mini Album  "
      ]
     },
     "execution_count": 14,
     "metadata": {},
     "output_type": "execute_result"
    }
   ],
   "source": [
    "df = pd.DataFrame(line)\n",
    "df.head()"
   ]
  },
  {
   "cell_type": "code",
   "execution_count": 11,
   "metadata": {},
   "outputs": [],
   "source": [
    "# 2. 위에서 만든 데이터프레임을 멜론_23051211.csv 파일에 저장하세요.[10]\n",
    "# 파일이름은 반드시 연월일시를 각각 2자리씩 표시하도록 해야 합니다.\n",
    "\n",
    "from datetime import datetime\n",
    "now = datetime.now()\n",
    "ymd = now.strftime('%Y%m%d')    # ymd = f'{now.year}{now.month:02d}{now.day:02d}'\n",
    "hh = now.strftime('%H')\n",
    "ymd, hh\n",
    "\n",
    "\n",
    "df.to_csv(f'data/{ymd}{hh}멜론차트.csv', index=False)"
   ]
  },
  {
   "cell_type": "code",
   "execution_count": 12,
   "metadata": {},
   "outputs": [],
   "source": [
    "# 3. 웹 서버를 만들고 localhost:5000/melon을 주소창에 입력하면 멜론차트를\n",
    "#    크롤링한 결과를 표로 보여주는 코드를 작성하고\n",
    "#    결과 웹화면을 스캔해서 답안지에 포함하세요.[20]"
   ]
  },
  {
   "cell_type": "code",
   "execution_count": null,
   "metadata": {},
   "outputs": [],
   "source": []
  }
 ],
 "metadata": {
  "kernelspec": {
   "display_name": "base",
   "language": "python",
   "name": "python3"
  },
  "language_info": {
   "codemirror_mode": {
    "name": "ipython",
    "version": 3
   },
   "file_extension": ".py",
   "mimetype": "text/x-python",
   "name": "python",
   "nbconvert_exporter": "python",
   "pygments_lexer": "ipython3",
   "version": "3.10.10"
  },
  "orig_nbformat": 4
 },
 "nbformat": 4,
 "nbformat_minor": 2
}
