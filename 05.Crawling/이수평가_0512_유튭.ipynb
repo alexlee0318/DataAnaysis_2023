{
 "cells": [
  {
   "attachments": {},
   "cell_type": "markdown",
   "metadata": {},
   "source": [
    "[문항2] [배점:50]\n",
    "유튜브 랭킹(https://youtube-rank.com/board/bbs/board.php?bo_table=youtube) 사이트를 크롤링하여 다음에 답하세요.\n",
    "1. 구독자순 기준으로 Top 1000 을 크롤링하여 \n",
    "   순위, 카테고리, 채널명, 구독자수, 조회수, 비디오수 필드를 데이터프레임으로 \n",
    "   만드세요.(20)\n",
    "\n",
    "2. 웹 서버를 만들고 localhost:5000/youtube_ranking을 주소창에 입력하면 \n",
    "   유튜브 랭킹을 크롤링한 결과를 표로 보여주는 코드를 작성하고\n",
    "   결과 웹화면을 스캔해서 답안지에 포함하세요.(10)\n",
    "\n",
    "3. 구독자수 Top 20 채널, 카테고리별 채널수 Top 10 카테고리를 \n",
    "   웹 서버를 이용하여 보여주는 코드를 작성하고 결과 웹화면을 스캔해서\n",
    "   답안지에 포함하세요.(20)"
   ]
  },
  {
   "cell_type": "code",
   "execution_count": null,
   "metadata": {},
   "outputs": [],
   "source": []
  }
 ],
 "metadata": {
  "kernelspec": {
   "display_name": "base",
   "language": "python",
   "name": "python3"
  },
  "language_info": {
   "codemirror_mode": {
    "name": "ipython",
    "version": 3
   },
   "file_extension": ".py",
   "mimetype": "text/x-python",
   "name": "python",
   "nbconvert_exporter": "python",
   "pygments_lexer": "ipython3",
   "version": "3.10.10"
  },
  "orig_nbformat": 4
 },
 "nbformat": 4,
 "nbformat_minor": 2
}
