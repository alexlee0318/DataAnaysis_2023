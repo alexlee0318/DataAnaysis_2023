{
 "cells": [
  {
   "attachments": {},
   "cell_type": "markdown",
   "metadata": {},
   "source": [
    "### 한빛아카데미 - 새로나온 책"
   ]
  },
  {
   "cell_type": "markdown",
   "metadata": {},
   "source": [
    "- https://www.hanbit.co.kr/academy/books/new_book_list.html?page=1&cate_cd=&- srt=&searchKey=&keyWord=(메인)\n",
    "- https://www.hanbit.co.kr/academy/books/book_view.html?p_code=B7192437175(서브)\n",
    "- location='/academy/books/book_view.html?p_code=B7192437175'(알수있는 정보)\n",
    "- 제목, 저자, 출간일, 쪽수, 가격, 역자"
   ]
  },
  {
   "cell_type": "code",
   "execution_count": 9,
   "metadata": {},
   "outputs": [],
   "source": [
    "import requests\n",
    "import pandas as pd # 결과는 DF로 볼 것이므로\n",
    "from tqdm import tqdm\n",
    "from bs4 import BeautifulSoup"
   ]
  },
  {
   "attachments": {},
   "cell_type": "markdown",
   "metadata": {},
   "source": [
    "1. 데이터 가져오기"
   ]
  },
  {
   "cell_type": "code",
   "execution_count": 10,
   "metadata": {},
   "outputs": [],
   "source": [
    "base_url='https://www.hanbit.co.kr'\n",
    "main_url = '/academy/books/new_book_list.html'\n",
    "url = f'{base_url}{main_url}?page=1'\n",
    "result = requests.get(url)\n",
    "soup = BeautifulSoup(result.text)"
   ]
  },
  {
   "cell_type": "markdown",
   "metadata": {},
   "source": [
    "2. 찾으려고 하는 데이터 찾기"
   ]
  },
  {
   "cell_type": "code",
   "execution_count": 11,
   "metadata": {},
   "outputs": [
    {
     "data": {
      "text/plain": [
       "20"
      ]
     },
     "execution_count": 11,
     "metadata": {},
     "output_type": "execute_result"
    }
   ],
   "source": [
    "lis = soup.select('li.sub_book_list')\n",
    "len(lis)"
   ]
  },
  {
   "attachments": {},
   "cell_type": "markdown",
   "metadata": {},
   "source": [
    "- 3. 하나의 데이터로 원하는 정보 추출"
   ]
  },
  {
   "cell_type": "code",
   "execution_count": 12,
   "metadata": {},
   "outputs": [
    {
     "data": {
      "text/plain": [
       "\"location='/academy/books/book_view.html?p_code=B7192437175'\""
      ]
     },
     "execution_count": 12,
     "metadata": {},
     "output_type": "execute_result"
    }
   ],
   "source": [
    "li = lis[0]\n",
    "href = li.select_one('.pop_quick_bg')['onclick']\n",
    "href"
   ]
  },
  {
   "cell_type": "code",
   "execution_count": 13,
   "metadata": {},
   "outputs": [
    {
     "data": {
      "text/plain": [
       "'/academy/books/book_view.html?p_code=B7192437175'"
      ]
     },
     "execution_count": 13,
     "metadata": {},
     "output_type": "execute_result"
    }
   ],
   "source": [
    "href = href[10:-1]\n",
    "href"
   ]
  },
  {
   "attachments": {},
   "cell_type": "markdown",
   "metadata": {},
   "source": [
    "- sub page에서 정보 추출"
   ]
  },
  {
   "cell_type": "code",
   "execution_count": 14,
   "metadata": {},
   "outputs": [],
   "source": [
    "sub_url = f'{base_url}{href}'\n",
    "res = requests.get(sub_url)\n",
    "book_soup = BeautifulSoup(res.text)"
   ]
  },
  {
   "cell_type": "code",
   "execution_count": 15,
   "metadata": {},
   "outputs": [
    {
     "data": {
      "text/plain": [
       "'처음 배우는 매트랩'"
      ]
     },
     "execution_count": 15,
     "metadata": {},
     "output_type": "execute_result"
    }
   ],
   "source": [
    "# 제목\n",
    "info = book_soup.select_one('.store_product_info_box')\n",
    "title = info.find('h3').text.strip()\n",
    "title"
   ]
  },
  {
   "cell_type": "code",
   "execution_count": 16,
   "metadata": {},
   "outputs": [
    {
     "data": {
      "text/plain": [
       "'방성완'"
      ]
     },
     "execution_count": 16,
     "metadata": {},
     "output_type": "execute_result"
    }
   ],
   "source": [
    "# 저자\n",
    "book_lis = info.select('.info_list > li')\n",
    "author = ', '.join(book_lis[0].find('span').get_text().strip().split(' , '))\n",
    "author"
   ]
  },
  {
   "cell_type": "code",
   "execution_count": 17,
   "metadata": {},
   "outputs": [
    {
     "data": {
      "text/plain": [
       "'-'"
      ]
     },
     "execution_count": 17,
     "metadata": {},
     "output_type": "execute_result"
    }
   ],
   "source": [
    "# 역자 \n",
    "\n",
    "if len(book_lis) == 5:\n",
    "    translator = '-'    # 없으면 - 표시\n",
    "else:\n",
    "    translator = ', '.join(book_lis[1].find('span').get_text().strip().split(' , '))\n",
    "translator"
   ]
  },
  {
   "cell_type": "code",
   "execution_count": 18,
   "metadata": {},
   "outputs": [
    {
     "data": {
      "text/plain": [
       "'2023-04-10'"
      ]
     },
     "execution_count": 18,
     "metadata": {},
     "output_type": "execute_result"
    }
   ],
   "source": [
    "# 출간일\n",
    "date = book_lis[-4].find('span').get_text().strip()\n",
    "date"
   ]
  },
  {
   "cell_type": "code",
   "execution_count": 19,
   "metadata": {},
   "outputs": [
    {
     "data": {
      "text/plain": [
       "416"
      ]
     },
     "execution_count": 19,
     "metadata": {},
     "output_type": "execute_result"
    }
   ],
   "source": [
    "# 페이지\n",
    "page = int(book_lis[-3].find('span').get_text().strip()[:-2])  # int까지하면 더 정교한 데이터 됨\n",
    "page"
   ]
  },
  {
   "cell_type": "code",
   "execution_count": 20,
   "metadata": {},
   "outputs": [
    {
     "data": {
      "text/plain": [
       "'30,000'"
      ]
     },
     "execution_count": 20,
     "metadata": {},
     "output_type": "execute_result"
    }
   ],
   "source": [
    "# 가격\n",
    "payments = book_soup.select_one('.payment_box.curr').find_all('p')\n",
    "sales = payments[1].select_one('.pbr').find('strong').get_text().strip()\n",
    "sales   # int로 바꾸려면: ,를 없애고 바꾸기"
   ]
  },
  {
   "attachments": {},
   "cell_type": "markdown",
   "metadata": {},
   "source": [
    "##### 4. 한 페이지에 있는 데이터"
   ]
  },
  {
   "cell_type": "code",
   "execution_count": 21,
   "metadata": {},
   "outputs": [],
   "source": [
    "lines = []\n",
    "for li in lis:\n",
    "    href = li.select_one('.pop_quick_bg')['onclick'][10:-1]\n",
    "    res = requests.get(base_url + href)\n",
    "    book_soup = BeautifulSoup(res.text)\n",
    "    info = book_soup.select_one('.store_product_info_box')\n",
    "    title = info.find('h3').text.strip()\n",
    "    book_list = info.select('.info_list > li')\n",
    "    author = ', '.join(book_list[0].find('span').get_text().strip().split(' , '))\n",
    "    if len(book_lis) == 5:\n",
    "        translator = '-'\n",
    "    else:\n",
    "        translator = ', '.join(book_lis[1].find('span').get_text().strip().split(' , '))\n",
    "    date = book_lis[-4].find('span').get_text().strip()\n",
    "    page = int(book_lis[-3].find('span').get_text().strip()[:-2])\n",
    "    payments = book_soup.select_one('.payment_box.curr').find_all('p')\n",
    "    sales = payments[1].select_one('.pbr').find('strong').get_text().strip()\n",
    "    lines.append({\n",
    "        '제목':title, '저자':author, '역자':translator,\n",
    "        '출간일':date, '페이지수':page, '판매가':sales\n",
    "    })"
   ]
  },
  {
   "cell_type": "code",
   "execution_count": 22,
   "metadata": {},
   "outputs": [
    {
     "data": {
      "text/html": [
       "<div>\n",
       "<style scoped>\n",
       "    .dataframe tbody tr th:only-of-type {\n",
       "        vertical-align: middle;\n",
       "    }\n",
       "\n",
       "    .dataframe tbody tr th {\n",
       "        vertical-align: top;\n",
       "    }\n",
       "\n",
       "    .dataframe thead th {\n",
       "        text-align: right;\n",
       "    }\n",
       "</style>\n",
       "<table border=\"1\" class=\"dataframe\">\n",
       "  <thead>\n",
       "    <tr style=\"text-align: right;\">\n",
       "      <th></th>\n",
       "      <th>제목</th>\n",
       "      <th>저자</th>\n",
       "      <th>역자</th>\n",
       "      <th>출간일</th>\n",
       "      <th>페이지수</th>\n",
       "      <th>판매가</th>\n",
       "    </tr>\n",
       "  </thead>\n",
       "  <tbody>\n",
       "    <tr>\n",
       "      <th>0</th>\n",
       "      <td>처음 배우는 매트랩</td>\n",
       "      <td>방성완</td>\n",
       "      <td>-</td>\n",
       "      <td>2023-04-10</td>\n",
       "      <td>416</td>\n",
       "      <td>30,000</td>\n",
       "    </tr>\n",
       "    <tr>\n",
       "      <th>1</th>\n",
       "      <td>SAS와 메타분석을 활용한 한번에 적용하는 의학보건통계</td>\n",
       "      <td>히든그레이스 데이터분석팀</td>\n",
       "      <td>-</td>\n",
       "      <td>2023-04-10</td>\n",
       "      <td>416</td>\n",
       "      <td>34,000</td>\n",
       "    </tr>\n",
       "    <tr>\n",
       "      <th>2</th>\n",
       "      <td>정보교과교육론(3판)</td>\n",
       "      <td>최현종, 전용주</td>\n",
       "      <td>-</td>\n",
       "      <td>2023-04-10</td>\n",
       "      <td>416</td>\n",
       "      <td>30,000</td>\n",
       "    </tr>\n",
       "    <tr>\n",
       "      <th>3</th>\n",
       "      <td>IT CookBook, 기초전자실험 with PSpice(3판)</td>\n",
       "      <td>홍순관</td>\n",
       "      <td>-</td>\n",
       "      <td>2023-04-10</td>\n",
       "      <td>416</td>\n",
       "      <td>22,000</td>\n",
       "    </tr>\n",
       "    <tr>\n",
       "      <th>4</th>\n",
       "      <td>경제수학 강의(3판)</td>\n",
       "      <td>김성현</td>\n",
       "      <td>-</td>\n",
       "      <td>2023-04-10</td>\n",
       "      <td>416</td>\n",
       "      <td>23,000</td>\n",
       "    </tr>\n",
       "    <tr>\n",
       "      <th>5</th>\n",
       "      <td>글로벌 사회와 리더십(2판)</td>\n",
       "      <td>안광현</td>\n",
       "      <td>-</td>\n",
       "      <td>2023-04-10</td>\n",
       "      <td>416</td>\n",
       "      <td>28,000</td>\n",
       "    </tr>\n",
       "    <tr>\n",
       "      <th>6</th>\n",
       "      <td>행동 재무론</td>\n",
       "      <td>고광수</td>\n",
       "      <td>-</td>\n",
       "      <td>2023-04-10</td>\n",
       "      <td>416</td>\n",
       "      <td>32,000</td>\n",
       "    </tr>\n",
       "    <tr>\n",
       "      <th>7</th>\n",
       "      <td>IT CookBook, 알기 쉽게 해설한 파이썬 with 컴퓨팅 사고력</td>\n",
       "      <td>김충석, 김지연</td>\n",
       "      <td>-</td>\n",
       "      <td>2023-04-10</td>\n",
       "      <td>416</td>\n",
       "      <td>24,000</td>\n",
       "    </tr>\n",
       "    <tr>\n",
       "      <th>8</th>\n",
       "      <td>MATLAB으로 배우는 공학 수치해석(3판)</td>\n",
       "      <td>방성완</td>\n",
       "      <td>-</td>\n",
       "      <td>2023-04-10</td>\n",
       "      <td>416</td>\n",
       "      <td>28,000</td>\n",
       "    </tr>\n",
       "    <tr>\n",
       "      <th>9</th>\n",
       "      <td>Cengel의 알기 쉬운 열역학(6판)</td>\n",
       "      <td>Yunus A. Çengel, John M. Cimbala, Afshin J. Gh...</td>\n",
       "      <td>-</td>\n",
       "      <td>2023-04-10</td>\n",
       "      <td>416</td>\n",
       "      <td>34,000</td>\n",
       "    </tr>\n",
       "    <tr>\n",
       "      <th>10</th>\n",
       "      <td>Cengel의 알기 쉬운 열전달(6판)</td>\n",
       "      <td>Yunus A. Çengel, John M. Cimbala, Afshin J. Gh...</td>\n",
       "      <td>-</td>\n",
       "      <td>2023-04-10</td>\n",
       "      <td>416</td>\n",
       "      <td>34,000</td>\n",
       "    </tr>\n",
       "    <tr>\n",
       "      <th>11</th>\n",
       "      <td>IT CookBook, 알기 쉽게 해설한 자바 프로그래밍(10판)</td>\n",
       "      <td>김충석</td>\n",
       "      <td>-</td>\n",
       "      <td>2023-04-10</td>\n",
       "      <td>416</td>\n",
       "      <td>30,000</td>\n",
       "    </tr>\n",
       "    <tr>\n",
       "      <th>12</th>\n",
       "      <td>IT CookBook, 비즈니스 애널리틱스를 위한 데이터 마이닝</td>\n",
       "      <td>Galit Shmueli, Peter C. Bruce, Peter Gedeck, N...</td>\n",
       "      <td>-</td>\n",
       "      <td>2023-04-10</td>\n",
       "      <td>416</td>\n",
       "      <td>39,000</td>\n",
       "    </tr>\n",
       "    <tr>\n",
       "      <th>13</th>\n",
       "      <td>현대경영과학(9판)</td>\n",
       "      <td>김세헌</td>\n",
       "      <td>-</td>\n",
       "      <td>2023-04-10</td>\n",
       "      <td>416</td>\n",
       "      <td>35,000</td>\n",
       "    </tr>\n",
       "    <tr>\n",
       "      <th>14</th>\n",
       "      <td>IT CookBook, 네트워크 해킹과 보안(4판)</td>\n",
       "      <td>양대일, 홍성혁</td>\n",
       "      <td>-</td>\n",
       "      <td>2023-04-10</td>\n",
       "      <td>416</td>\n",
       "      <td>32,000</td>\n",
       "    </tr>\n",
       "    <tr>\n",
       "      <th>15</th>\n",
       "      <td>IT CookBook, 쉽게 배우는 운영체제(2판)</td>\n",
       "      <td>조성호</td>\n",
       "      <td>-</td>\n",
       "      <td>2023-04-10</td>\n",
       "      <td>416</td>\n",
       "      <td>32,000</td>\n",
       "    </tr>\n",
       "    <tr>\n",
       "      <th>16</th>\n",
       "      <td>IT CookBook, Android Studio를 활용한 안드로이드 프로그래밍(8판)</td>\n",
       "      <td>우재남, 박길식</td>\n",
       "      <td>-</td>\n",
       "      <td>2023-04-10</td>\n",
       "      <td>416</td>\n",
       "      <td>34,000</td>\n",
       "    </tr>\n",
       "    <tr>\n",
       "      <th>17</th>\n",
       "      <td>STEM CookBook, 전기 및 하이브리드 자동차(3판)</td>\n",
       "      <td>Iqbal Husain</td>\n",
       "      <td>-</td>\n",
       "      <td>2023-04-10</td>\n",
       "      <td>416</td>\n",
       "      <td>35,000</td>\n",
       "    </tr>\n",
       "    <tr>\n",
       "      <th>18</th>\n",
       "      <td>IT CookBook, 컴퓨터 비전과 딥러닝</td>\n",
       "      <td>오일석</td>\n",
       "      <td>-</td>\n",
       "      <td>2023-04-10</td>\n",
       "      <td>416</td>\n",
       "      <td>39,000</td>\n",
       "    </tr>\n",
       "    <tr>\n",
       "      <th>19</th>\n",
       "      <td>리더십 : 이론과 실제 (9판)</td>\n",
       "      <td>Peter G. Northouse</td>\n",
       "      <td>-</td>\n",
       "      <td>2023-04-10</td>\n",
       "      <td>416</td>\n",
       "      <td>36,000</td>\n",
       "    </tr>\n",
       "  </tbody>\n",
       "</table>\n",
       "</div>"
      ],
      "text/plain": [
       "                                                  제목   \n",
       "0                                         처음 배우는 매트랩  \\\n",
       "1                     SAS와 메타분석을 활용한 한번에 적용하는 의학보건통계   \n",
       "2                                        정보교과교육론(3판)   \n",
       "3                IT CookBook, 기초전자실험 with PSpice(3판)   \n",
       "4                                        경제수학 강의(3판)   \n",
       "5                                    글로벌 사회와 리더십(2판)   \n",
       "6                                             행동 재무론   \n",
       "7            IT CookBook, 알기 쉽게 해설한 파이썬 with 컴퓨팅 사고력   \n",
       "8                           MATLAB으로 배우는 공학 수치해석(3판)   \n",
       "9                              Cengel의 알기 쉬운 열역학(6판)   \n",
       "10                             Cengel의 알기 쉬운 열전달(6판)   \n",
       "11              IT CookBook, 알기 쉽게 해설한 자바 프로그래밍(10판)   \n",
       "12               IT CookBook, 비즈니스 애널리틱스를 위한 데이터 마이닝   \n",
       "13                                        현대경영과학(9판)   \n",
       "14                      IT CookBook, 네트워크 해킹과 보안(4판)   \n",
       "15                      IT CookBook, 쉽게 배우는 운영체제(2판)   \n",
       "16  IT CookBook, Android Studio를 활용한 안드로이드 프로그래밍(8판)   \n",
       "17                 STEM CookBook, 전기 및 하이브리드 자동차(3판)   \n",
       "18                          IT CookBook, 컴퓨터 비전과 딥러닝   \n",
       "19                                 리더십 : 이론과 실제 (9판)   \n",
       "\n",
       "                                                   저자 역자         출간일  페이지수   \n",
       "0                                                 방성완  -  2023-04-10   416  \\\n",
       "1                                       히든그레이스 데이터분석팀  -  2023-04-10   416   \n",
       "2                                            최현종, 전용주  -  2023-04-10   416   \n",
       "3                                                 홍순관  -  2023-04-10   416   \n",
       "4                                                 김성현  -  2023-04-10   416   \n",
       "5                                                 안광현  -  2023-04-10   416   \n",
       "6                                                 고광수  -  2023-04-10   416   \n",
       "7                                            김충석, 김지연  -  2023-04-10   416   \n",
       "8                                                 방성완  -  2023-04-10   416   \n",
       "9   Yunus A. Çengel, John M. Cimbala, Afshin J. Gh...  -  2023-04-10   416   \n",
       "10  Yunus A. Çengel, John M. Cimbala, Afshin J. Gh...  -  2023-04-10   416   \n",
       "11                                                김충석  -  2023-04-10   416   \n",
       "12  Galit Shmueli, Peter C. Bruce, Peter Gedeck, N...  -  2023-04-10   416   \n",
       "13                                                김세헌  -  2023-04-10   416   \n",
       "14                                           양대일, 홍성혁  -  2023-04-10   416   \n",
       "15                                                조성호  -  2023-04-10   416   \n",
       "16                                           우재남, 박길식  -  2023-04-10   416   \n",
       "17                                       Iqbal Husain  -  2023-04-10   416   \n",
       "18                                                오일석  -  2023-04-10   416   \n",
       "19                                 Peter G. Northouse  -  2023-04-10   416   \n",
       "\n",
       "       판매가  \n",
       "0   30,000  \n",
       "1   34,000  \n",
       "2   30,000  \n",
       "3   22,000  \n",
       "4   23,000  \n",
       "5   28,000  \n",
       "6   32,000  \n",
       "7   24,000  \n",
       "8   28,000  \n",
       "9   34,000  \n",
       "10  34,000  \n",
       "11  30,000  \n",
       "12  39,000  \n",
       "13  35,000  \n",
       "14  32,000  \n",
       "15  32,000  \n",
       "16  34,000  \n",
       "17  35,000  \n",
       "18  39,000  \n",
       "19  36,000  "
      ]
     },
     "execution_count": 22,
     "metadata": {},
     "output_type": "execute_result"
    }
   ],
   "source": [
    "df1 = pd.DataFrame(lines)\n",
    "df1"
   ]
  },
  {
   "cell_type": "code",
   "execution_count": null,
   "metadata": {},
   "outputs": [],
   "source": []
  }
 ],
 "metadata": {
  "kernelspec": {
   "display_name": "base",
   "language": "python",
   "name": "python3"
  },
  "language_info": {
   "codemirror_mode": {
    "name": "ipython",
    "version": 3
   },
   "file_extension": ".py",
   "mimetype": "text/x-python",
   "name": "python",
   "nbconvert_exporter": "python",
   "pygments_lexer": "ipython3",
   "version": "3.10.10"
  },
  "orig_nbformat": 4
 },
 "nbformat": 4,
 "nbformat_minor": 2
}
