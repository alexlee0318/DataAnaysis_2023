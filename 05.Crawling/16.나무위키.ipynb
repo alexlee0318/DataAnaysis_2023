{
 "cells": [
  {
   "attachments": {},
   "cell_type": "markdown",
   "metadata": {},
   "source": [
    "### 나무위키- 최근변경내역 말뭉치(corpus) 만들기"
   ]
  },
  {
   "cell_type": "code",
   "execution_count": 1,
   "metadata": {},
   "outputs": [],
   "source": [
    "import time\n",
    "import pandas as pd\n",
    "from selenium import webdriver\n",
    "from selenium.webdriver.common.by import By\n",
    "from selenium.webdriver.common.keys import Keys\n",
    "from bs4 import BeautifulSoup\n",
    "import warnings\n",
    "warnings.filterwarnings('ignore')"
   ]
  },
  {
   "attachments": {},
   "cell_type": "markdown",
   "metadata": {},
   "source": [
    "- 1. 페이지의 URL 정보 추출하기"
   ]
  },
  {
   "cell_type": "code",
   "execution_count": 2,
   "metadata": {},
   "outputs": [],
   "source": [
    "url = 'https://namu.wiki/RecentChanges'\n",
    "driver =webdriver.Chrome('file:///C:/Users/YONSAI/Downloads/chromedriver_win32/chromedriver')\n",
    "driver.get(url)"
   ]
  },
  {
   "cell_type": "code",
   "execution_count": 3,
   "metadata": {},
   "outputs": [],
   "source": [
    "soup = BeautifulSoup(driver.page_source, 'html.parser')"
   ]
  },
  {
   "cell_type": "code",
   "execution_count": 4,
   "metadata": {},
   "outputs": [
    {
     "data": {
      "text/plain": [
       "113"
      ]
     },
     "execution_count": 4,
     "metadata": {},
     "output_type": "execute_result"
    }
   ],
   "source": [
    "# //*[@id=\"QD8sx38qa\"]/div[2]/div/article/div[2]/div/div[1]/div/div/table/tbody\n",
    "# //*[@id=\"QD8sx38qa\"]/div[2]/div/article/div[2]/div/div[1]/div/div/table/tbody/tr  (맨 뒤에있던 [1]은 삭제)\n",
    "\n",
    "trs = driver.find_elements(By.XPATH, '//*[@id=\"QD8sx38qa\"]/div[2]/div/article/div[2]/div/div[1]/div/div/table/tbody/tr')\n",
    "len(trs)"
   ]
  },
  {
   "cell_type": "code",
   "execution_count": 5,
   "metadata": {},
   "outputs": [
    {
     "data": {
      "text/plain": [
       "'슬롯머신'"
      ]
     },
     "execution_count": 5,
     "metadata": {},
     "output_type": "execute_result"
    }
   ],
   "source": [
    "tr = trs[0]\n",
    "tr.find_element(By.CSS_SELECTOR, 'td > a').text.strip()"
   ]
  },
  {
   "cell_type": "code",
   "execution_count": 6,
   "metadata": {},
   "outputs": [
    {
     "data": {
      "text/plain": [
       "'https://namu.wiki/w/%EC%8A%AC%EB%A1%AF%EB%A8%B8%EC%8B%A0'"
      ]
     },
     "execution_count": 6,
     "metadata": {},
     "output_type": "execute_result"
    }
   ],
   "source": [
    "tr.find_element(By.CSS_SELECTOR, 'td > a').get_attribute('href')"
   ]
  },
  {
   "cell_type": "code",
   "execution_count": 7,
   "metadata": {},
   "outputs": [],
   "source": [
    "page_urls = []\n",
    "for tr in trs:\n",
    "    try:\n",
    "        page_urls.append(tr.find_element(By.CSS_SELECTOR, 'td > a').get_attribute('href'))\n",
    "    except:\n",
    "        continue"
   ]
  },
  {
   "cell_type": "code",
   "execution_count": 8,
   "metadata": {},
   "outputs": [
    {
     "data": {
      "text/plain": [
       "100"
      ]
     },
     "execution_count": 8,
     "metadata": {},
     "output_type": "execute_result"
    }
   ],
   "source": [
    "len(page_urls)"
   ]
  },
  {
   "cell_type": "code",
   "execution_count": 9,
   "metadata": {},
   "outputs": [
    {
     "data": {
      "text/plain": [
       "73"
      ]
     },
     "execution_count": 9,
     "metadata": {},
     "output_type": "execute_result"
    }
   ],
   "source": [
    "# 중복 URL 제거 - set으로 만든 후 다시 출력\n",
    "page_urls = list(set(page_urls))\n",
    "len(page_urls)"
   ]
  },
  {
   "cell_type": "code",
   "execution_count": 10,
   "metadata": {},
   "outputs": [
    {
     "data": {
      "text/plain": [
       "['https://namu.wiki/w/%EB%B6%80%EC%82%B0%20%EB%B2%84%EC%8A%A4%20122',\n",
       " 'https://namu.wiki/w/%EC%9D%B4%EC%B0%AC(%EB%8B%A4%ED%81%AC%EB%B9%84)',\n",
       " 'https://namu.wiki/w/Lizzo']"
      ]
     },
     "execution_count": 10,
     "metadata": {},
     "output_type": "execute_result"
    }
   ],
   "source": [
    "page_urls[:3]"
   ]
  },
  {
   "cell_type": "code",
   "execution_count": null,
   "metadata": {},
   "outputs": [],
   "source": [
    "driver.get(page_urls[:3])"
   ]
  },
  {
   "cell_type": "code",
   "execution_count": 12,
   "metadata": {},
   "outputs": [],
   "source": [
    "driver.close()"
   ]
  },
  {
   "attachments": {},
   "cell_type": "markdown",
   "metadata": {},
   "source": [
    "##### 2. URL 페이지 정보를 기반으로 크롤링하기"
   ]
  },
  {
   "cell_type": "code",
   "execution_count": 13,
   "metadata": {},
   "outputs": [],
   "source": [
    "import requests\n",
    "\n",
    "res = requests.get(page_urls[0])\n",
    "soup = BeautifulSoup(res.text, 'html.parser')"
   ]
  },
  {
   "cell_type": "code",
   "execution_count": 16,
   "metadata": {},
   "outputs": [
    {
     "ename": "AttributeError",
     "evalue": "'NoneType' object has no attribute 'find'",
     "output_type": "error",
     "traceback": [
      "\u001b[1;31m---------------------------------------------------------------------------\u001b[0m",
      "\u001b[1;31mAttributeError\u001b[0m                            Traceback (most recent call last)",
      "Cell \u001b[1;32mIn[16], line 1\u001b[0m\n\u001b[1;32m----> 1\u001b[0m title \u001b[39m=\u001b[39m soup\u001b[39m.\u001b[39;49mfind(\u001b[39m'\u001b[39;49m\u001b[39marticle\u001b[39;49m\u001b[39m'\u001b[39;49m)\u001b[39m.\u001b[39;49mfind(\u001b[39m'\u001b[39m\u001b[39mh1\u001b[39m\u001b[39m'\u001b[39m)\u001b[39m.\u001b[39mget_text()\u001b[39m.\u001b[39mstrip()\n",
      "\u001b[1;31mAttributeError\u001b[0m: 'NoneType' object has no attribute 'find'"
     ]
    }
   ],
   "source": [
    "title = soup.find('article').find('h1').get_text().strip()"
   ]
  },
  {
   "cell_type": "code",
   "execution_count": 39,
   "metadata": {},
   "outputs": [
    {
     "data": {
      "text/plain": [
       "'<!DOCTYPE html>\\n<html lang=\"en-US\">\\n<head>\\n    <title>Just a moment...</title>\\n    <meta http-equiv=\"Content-Type\" content=\"text/html; charset=UTF-8\">\\n    <meta http-equiv=\"X-UA-Compatible\" content=\"IE=Edge\">\\n    <meta name=\"robots\" content=\"noindex,nofollow\">\\n    <meta name=\"viewport\" content=\"width=device-width,initial-scale=1\">\\n    <link href=\"/cdn-cgi/styles/challenges.css\" rel=\"stylesheet\">\\n    \\n\\n</head>\\n<body class=\"no-js\">\\n    <div class=\"main-wrapper\" role=\"main\">\\n    <div class=\"main-content\">\\n        <noscript>\\n            <div id=\"challenge-error-title\">\\n                <div class=\"h2\">\\n                    <span class=\"icon-wrapper\">\\n                        <div class=\"heading-icon warning-icon\"></div>\\n                    </span>\\n                    <span id=\"challenge-error-text\">\\n                        Enable JavaScript and cookies to continue\\n                    </span>\\n                </div>\\n            </div>\\n        </noscript>\\n        <div id=\"trk_jschal_js\" style=\"display:none;background-image:url(\\'/cdn-cgi/images/trace/managed/nojs/transparent.gif?ray=7bdc6cdbe8e3c05d\\')\"></div>\\n        <form id=\"challenge-form\" action=\"/w/%EB%A5%98%EC%9C%BC%EB%AF%B8?__cf_chl_f_tk=DHWQtaZY9dr2L9Li5w3PonZVzGx0sguU_GAzitbdzD0-1682486936-0-gaNycGzNCpA\" method=\"POST\" enctype=\"application/x-www-form-urlencoded\">\\n            <input type=\"hidden\" name=\"md\" value=\"h.v4tJevOMVcm9pKbznfxxrF.D5Xu2qyIF1sznA173E-1682486936-0-ATafthIYYevdzimL9oRq0JDTiVKkVXUiASpppjRkDyAKZId6Xv5NNUSq_f8fPoTZBQFuImKGnVZel7ro41UGOZCEn7k-f_qkA6Jz217rDOODUsrKitaw-1g2IY3Js44HHfT79Z8jGcpIjf6mQqz_XTsjbKGOpD0hh8KSO4nCiKWwn2PtMRhM1CiVZYszfQGBG7WWbeELFh3viEsEyOTBXCJt05L0kMOMqKRMjxuncUvbNIp8bxVrFxd9xeZ-pEO9Y18cnXJjf0Ma2y2zFv1c5uR5Dc3JXsZdaKL1fHjhmZ5ewYoVKwdVaRIo7v9oPhSxv8IWIPNOwNLDkfu7I9G15Cpj-c4sPToMBwpWJ9580oWEYfS5wgSBqWI-3X2LEvrsduV5bdgjGpVq6pCgIKwznS1FBl3jqZ36CzVJNhslSB6kTuibpT_eBiC7owSjjPfiYoJ1HZWx9ZepO5TciWXypuz6yVlFN95EyhO7qgjbqETo6T9lEj7ZD41kUtUKFqif96OFNDLvRA00RlqcGv5J8AnhzWh0K7YK4qMX9iAlvo79wIK9NCaUiLROPHWkV-qq9jADiS16l5Do929YS_Hoszu-1LBmWCyq8pf4_s5EGATsDohAX1we77psNkQSbav3ObOVtoAT8hsnu_0A_igzYFdTMyCICLuEBqkrBC_LSOtRmmb2UJOV3CjELOKp_E0pBRl562evOol3Ajgqwbav7UFYGlUirbB6Ke0Ltcqo3JkaXZhqXSeca5JdjLFUsUdjGHidu-TZBig3tlj2cty7T3bGeCX91E3h-_yayL_lQvyrryTCIQCk4w4vG3Xj-UJSfn90y4t996OPvED5ohdzwHqoQIf-6fKVahyRGirqFeM0Kb5sQeBcrJe_ovzwDDuCqZuUkXlQbI3dfXUJt4A5W1wGF2lJmBPTSS7WvNYiK0QpDJbj6Dio6rRyxZvgx9-mJ0U4FYqfqIX65j1BV9aGANrAn87GR_zP6Km_vCkbtamfmaf9ZoZqmh6V35pN0Et-tuL2Zh4cpXuZibmBHLEygIJDS1e4NefLqv4dJssiXVMYn7pWMuZlay49qI8RqXdXzJuWZ-lCbMnHCYB-7ArEznGvCOqNaiv_d4PkQUYOywEKx8d4vYlYBBn2WbFJT8CDKSVOXI-cVUixICa04RT9Imj3sWOBwYzPCMgDB_Cn3dhCSGDVdlogxDiVW0n5Fe4MvdNEB8F-5ht-DoEg5A8SvGoeyaszdyamgUF-w8_LOWnz0XlAYLSKzJspDEGUGW1cVByxubLH8Yp0SEDtAkKscXrGB-0o7-AdkNyLC0-W3KmMpA56xSifQwtEB4wWeCWIKTHQrdss9yTG8qtNkrolWFkXzPPQTrJiqFwTkofJKwzl3ZlHi8nfZdAy1gWl7Fp2agHJcs84CEtMsoudBFB-Ll0uaVCzt_3ipqgQDhuY3u9uYo1jVvSoEWc42cpJ2_IcyYR1KVt0Ew15eXIz-KnnMBuc12WF8-ex9TOz1mAnrbxo_880z46jgAAotOfcPk24_95TVsr6b8PR1NDUM-qBeh5hut0tjpZq_nWl76k5SD8oY2cF-6epwMhCiUcgZ5KU5LLh5rndS_nJhFUV6Q3vys_o_vd93wb0Zz8GrkcBs1iepjNOk9wcBnf-xqo5K_Nyq_CS0lM9wRcL0M1bsLv6qaTtOntDgE2NdZ0lQnL3OUsSqBBCpCdQ9qOEfWTh2TQFHvcbiedu091CUyjCWneB-ZsfQa9bA453EgC4Ao5oXzlzZnmPKP9Vs54SC9bNCAsGl5BhcuTNfMFFfyfjCllIvx77QyTFYX8-28eJcOpMSFaymS5xIb4iK6BiPAuGORAKHbp7NDU6Tr9Uh7HpATl0821YXSQb_ai2qWYBLY8AjTaoA99GEPQ07f6YYjz5DzPbcsmhoM9zpTcSiaBkGrBc6GiEObMjEZc_FguNAveGW8S2-qAhdH36XyDOnfYmKJgnptI04p0Uy9rIF2DTEM6Cxq7UJ8p6fI4drsCOGcHymJukstM9YnXXjIB7m6iA69d9t_mUTrmAfCo8tTOYQdjgidm6FTy5qCQIf8XLRXI1MD8ptk--HROXaeFli7yLDPO-q3Fo-mEsBpGWbGgbuVoQw4hDDj5SJnrXk3jx9SJs2S3CfV1cI649SYvQhsY3Jdwsz4eE8dcMStkm6-3VIp2HT_8zreQB4qAA8ZI28AAcl8qa9ZGV8R47isxiSqX6s08zcFGkSkuxipPX1u9QdsCdkhnOZq1zQkATrGjyGjxyA4a9S8OpoGc3E8KPDtoucoGUh0VovYOqNTCaxsKaTJQW4i9f3VxUKrBeWEg-0N1LjtK-Mgwnf2sBv2v8k2R34HU8dq1BglbT8eFnNQMNXVQilgS7eR9W4lRCYkac4lwCElXbBFTly2wfTtmAUthrJ-AIR7GeqsfGEHnBHEq_HNJRmnKm2IJWy5XSn06CdvAyjYmLYzDLwnVdrNDzeAE-c5AWqNgaHWkXeHJsVUFieD6Qow-uJl3tAIyjM9WnOwxqmu8ELg3nf0VBwk_GC-_uldF5eCT-1y2yDqbCQUHeG6kM1aZA6UAbiUkqfsgXVwMWI3-6OR6_UEpYtARYdQ3dkuG9ReAikpSQzWY-GyjC_Y9ghmA\">\\n        </form>\\n    </div>\\n</div>\\n<script>\\n    (function(){\\n        window._cf_chl_opt={\\n            cvId: \\'2\\',\\n            cZone: \\'namu.wiki\\',\\n            cType: \\'managed\\',\\n            cNounce: \\'98310\\',\\n            cRay: \\'7bdc6cdbe8e3c05d\\',\\n            cHash: \\'d98ce0da3cfadf0\\',\\n            cUPMDTk: \"\\\\/w\\\\/%EB%A5%98%EC%9C%BC%EB%AF%B8?__cf_chl_tk=DHWQtaZY9dr2L9Li5w3PonZVzGx0sguU_GAzitbdzD0-1682486936-0-gaNycGzNCpA\",\\n            cFPWv: \\'b\\',\\n            cTTimeMs: \\'1000\\',\\n            cMTimeMs: \\'0\\',\\n            cTplV: 5,\\n            cTplB: \\'cf\\',\\n            cK: \"\",\\n            cRq: {\\n                ru: \\'aHR0cHM6Ly9uYW11Lndpa2kvdy8lRUIlQTUlOTglRUMlOUMlQkMlRUIlQUYlQjg=\\',\\n                ra: \\'cHl0aG9uLXJlcXVlc3RzLzIuMjguMg==\\',\\n                rm: \\'R0VU\\',\\n                d: \\'cwVARYjHTabgMdyiohR6CdV5TJNYGcy3JWm3Pt9bGEaBwTvmxgGH78IvAhxWXXs0zLbSYVtWqKfh426i4oS6CVIyeVLL3JnITEUWWectP67ZW2g7CJq1DZNPmv18zLIQh6TkS+pNR9FI7a4syFtSOB9CWkcqtWP4+PzFHP3URFFNbRQ65kRgz86aD3vTc0E90uKD1rm8n45DHxHncOvVtFqC3RCxgecFqB23K6/1VPy8uI5+OtAAo3/RTRbOjGBS6d5UVUsLp838z+AGFOba4OwPQ+RwszgmfMBpMV4mhRPB27Z128FqFgTufSKsmaDzDlp+h3AA0wDptRKU8Eo8cfgsOMcB6ZJLKtCtkW7Jiv1tPkW70qS3/awGm4gx0KfJTcrix7o/96ocAGhhSiCtYHBhV9edUrHYt7j7NuOhJXP2HqvoQOg3mxOLwfkTVCNmx3EsRGVpsIZpsTRNtoumQKMM/TFGjHy0kVpckJzm+RkUNKSaKOv5pCBsYmAoeN//BaLbvZkEypHDtp5SiEuZdnTIHLBVArukMB0p+iESGV5YuWBpLWkRsNkSZc7pR9vwpfiP+GWOkPy/7mfeBodMdej5gEvH2D5hQV2ZM6r/IH8TzdyszyEm3EDccrKDXgWE\\',\\n                t: \\'MTY4MjQ4NjkzNi45NTQwMDA=\\',\\n                m: \\'um6sjfICFaXzHxnDcuVb4WNSWI91Wg08cvlPS4NVynQ=\\',\\n                i1: \\'U2VEppfR8leRixDJq+8SHQ==\\',\\n                i2: \\'DAW9ANBgLu0Po+cRXSTr2Q==\\',\\n                zh: \\'m8uLQymzcNrDBUWxIxJVRWWsai2gcUDknsM9ZyUGxkE=\\',\\n                uh: \\'neMFmDCz0LRc0/Wea+5x0IhJieHbzcQVSkMgFkgnrjc=\\',\\n                hh: \\'jeNn0+60emESsWxgCwQYeRlqvrbki4H9y8kT5uzN11k=\\',\\n            }\\n        };\\n        var trkjs = document.createElement(\\'img\\');\\n        trkjs.setAttribute(\\'src\\', \\'/cdn-cgi/images/trace/managed/js/transparent.gif?ray=7bdc6cdbe8e3c05d\\');\\n        trkjs.setAttribute(\\'alt\\', \\'\\');\\n        trkjs.setAttribute(\\'style\\', \\'display: none\\');\\n        document.body.appendChild(trkjs);\\n        var cpo = document.createElement(\\'script\\');\\n        cpo.src = \\'/cdn-cgi/challenge-platform/h/b/orchestrate/managed/v1?ray=7bdc6cdbe8e3c05d\\';\\n        window._cf_chl_opt.cOgUHash = location.hash === \\'\\' && location.href.indexOf(\\'#\\') !== -1 ? \\'#\\' : location.hash;\\n        window._cf_chl_opt.cOgUQuery = location.search === \\'\\' && location.href.slice(0, location.href.length - window._cf_chl_opt.cOgUHash.length).indexOf(\\'?\\') !== -1 ? \\'?\\' : location.search;\\n        if (window.history && window.history.replaceState) {\\n            var ogU = location.pathname + window._cf_chl_opt.cOgUQuery + window._cf_chl_opt.cOgUHash;\\n            history.replaceState(null, null, \"\\\\/w\\\\/%EB%A5%98%EC%9C%BC%EB%AF%B8?__cf_chl_rt_tk=DHWQtaZY9dr2L9Li5w3PonZVzGx0sguU_GAzitbdzD0-1682486936-0-gaNycGzNCpA\" + window._cf_chl_opt.cOgUHash);\\n            cpo.onload = function() {\\n                history.replaceState(null, null, ogU);\\n            };\\n        }\\n        document.getElementsByTagName(\\'head\\')[0].appendChild(cpo);\\n    }());\\n</script>\\n\\n\\n</body>\\n</html>\\n'"
      ]
     },
     "execution_count": 39,
     "metadata": {},
     "output_type": "execute_result"
    }
   ],
   "source": [
    "res.text"
   ]
  },
  {
   "cell_type": "code",
   "execution_count": 14,
   "metadata": {},
   "outputs": [],
   "source": [
    "driver =webdriver.Chrome('file:///C:/Users/YONSAI/Downloads/chromedriver_win32/chromedriver')\n",
    "driver.get(page_urls[0])"
   ]
  },
  {
   "cell_type": "code",
   "execution_count": 15,
   "metadata": {},
   "outputs": [
    {
     "ename": "AttributeError",
     "evalue": "'NoneType' object has no attribute 'find'",
     "output_type": "error",
     "traceback": [
      "\u001b[1;31m---------------------------------------------------------------------------\u001b[0m",
      "\u001b[1;31mAttributeError\u001b[0m                            Traceback (most recent call last)",
      "Cell \u001b[1;32mIn[15], line 2\u001b[0m\n\u001b[0;32m      1\u001b[0m soup \u001b[39m=\u001b[39m BeautifulSoup(driver\u001b[39m.\u001b[39mpage_source, \u001b[39m'\u001b[39m\u001b[39mhtml.parser\u001b[39m\u001b[39m'\u001b[39m)\n\u001b[1;32m----> 2\u001b[0m title \u001b[39m=\u001b[39m soup\u001b[39m.\u001b[39;49mfind(\u001b[39m'\u001b[39;49m\u001b[39marticle\u001b[39;49m\u001b[39m'\u001b[39;49m)\u001b[39m.\u001b[39;49mfind(\u001b[39m'\u001b[39m\u001b[39mh1\u001b[39m\u001b[39m'\u001b[39m)\u001b[39m.\u001b[39mget_text()\u001b[39m.\u001b[39mstrip()\n\u001b[0;32m      3\u001b[0m title\n",
      "\u001b[1;31mAttributeError\u001b[0m: 'NoneType' object has no attribute 'find'"
     ]
    }
   ],
   "source": [
    "soup = BeautifulSoup(driver.page_source, 'html.parser')\n",
    "title = soup.find('article').find('h1').get_text().strip()\n",
    "title"
   ]
  },
  {
   "cell_type": "code",
   "execution_count": null,
   "metadata": {},
   "outputs": [],
   "source": []
  }
 ],
 "metadata": {
  "kernelspec": {
   "display_name": "base",
   "language": "python",
   "name": "python3"
  },
  "language_info": {
   "codemirror_mode": {
    "name": "ipython",
    "version": 3
   },
   "file_extension": ".py",
   "mimetype": "text/x-python",
   "name": "python",
   "nbconvert_exporter": "python",
   "pygments_lexer": "ipython3",
   "version": "3.10.10"
  },
  "orig_nbformat": 4
 },
 "nbformat": 4,
 "nbformat_minor": 2
}
