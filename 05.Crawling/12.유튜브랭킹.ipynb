{
 "cells": [
  {
   "cell_type": "code",
   "execution_count": 68,
   "metadata": {},
   "outputs": [],
   "source": [
    "import requests\n",
    "import pandas as pd\n",
    "from tqdm import tqdm\n",
    "from urllib.parse import quote\n",
    "from bs4 import BeautifulSoup\n",
    "from selenium import webdriver\n",
    "import warnings\n",
    "warnings.filterwarnings('ignore')"
   ]
  },
  {
   "cell_type": "code",
   "execution_count": 69,
   "metadata": {},
   "outputs": [],
   "source": [
    "url = 'https://youtube-rank.com/board/bbs/board.php?bo_table=youtube&page=' + '1'\n",
    "driver = webdriver.Chrome('C:/Users/YONSAI/Downloads/chromedriver_win32/chromedriver.exe')\n",
    "driver.get(url)\n",
    "res = requests.get(url)\n",
    "soup = BeautifulSoup(res.text, 'html.parser')"
   ]
  },
  {
   "cell_type": "code",
   "execution_count": 70,
   "metadata": {},
   "outputs": [],
   "source": [
    "# View 페이지를 아래로 내려서 많은 데이터 확보\n",
    "from selenium.webdriver.common.by import By\n",
    "from selenium.webdriver.common.keys import Keys\n",
    "import time\n",
    "\n",
    "body = driver.find_element(By.TAG_NAME, 'body')\n",
    "for _ in range(16):\n",
    "    body.send_keys(Keys.PAGE_DOWN)\n",
    "    time.sleep(1)\n",
    "    # 웹스크롤 실행되는 동안 다른 명령x, 끝날 때까지 기다리기(30번*1초) "
   ]
  },
  {
   "cell_type": "code",
   "execution_count": 71,
   "metadata": {},
   "outputs": [
    {
     "data": {
      "text/plain": [
       "100"
      ]
     },
     "execution_count": 71,
     "metadata": {},
     "output_type": "execute_result"
    }
   ],
   "source": [
    "soup = BeautifulSoup(driver.page_source, 'html.parser')\n",
    "trs = soup.select('.aos-init')\n",
    "len(trs)"
   ]
  },
  {
   "cell_type": "code",
   "execution_count": 72,
   "metadata": {},
   "outputs": [
    {
     "data": {
      "text/plain": [
       "(298164, 292114)"
      ]
     },
     "execution_count": 72,
     "metadata": {},
     "output_type": "execute_result"
    }
   ],
   "source": [
    "len(driver.page_source), len(res.text)"
   ]
  },
  {
   "attachments": {},
   "cell_type": "markdown",
   "metadata": {},
   "source": [
    "- Step 3"
   ]
  },
  {
   "cell_type": "code",
   "execution_count": 73,
   "metadata": {},
   "outputs": [
    {
     "data": {
      "text/plain": [
       "1"
      ]
     },
     "execution_count": 73,
     "metadata": {},
     "output_type": "execute_result"
    }
   ],
   "source": [
    "tr = trs[0]\n",
    "rank = int(tr.select_one('.rank').get_text().strip())\n",
    "rank"
   ]
  },
  {
   "cell_type": "code",
   "execution_count": 74,
   "metadata": {},
   "outputs": [
    {
     "data": {
      "text/plain": [
       "'음악/댄스/가수'"
      ]
     },
     "execution_count": 74,
     "metadata": {},
     "output_type": "execute_result"
    }
   ],
   "source": [
    "category= tr.select_one('.category').get_text().strip()[1:-1]\n",
    "category"
   ]
  },
  {
   "cell_type": "code",
   "execution_count": 75,
   "metadata": {},
   "outputs": [
    {
     "data": {
      "text/plain": [
       "'BLACKPINK'"
      ]
     },
     "execution_count": 75,
     "metadata": {},
     "output_type": "execute_result"
    }
   ],
   "source": [
    "# channel = tr.find('h1 > a').get_text().strip()\n",
    "channel = tr.select_one('h1 > a').get_text().strip()\n",
    "channel"
   ]
  },
  {
   "cell_type": "code",
   "execution_count": 76,
   "metadata": {},
   "outputs": [
    {
     "data": {
      "text/plain": [
       "'8800만'"
      ]
     },
     "execution_count": 76,
     "metadata": {},
     "output_type": "execute_result"
    }
   ],
   "source": [
    "subs = tr.select_one('.subscriber_cnt').get_text().strip()\n",
    "subs"
   ]
  },
  {
   "cell_type": "code",
   "execution_count": 77,
   "metadata": {},
   "outputs": [
    {
     "data": {
      "text/plain": [
       "('309억5913만', '514')"
      ]
     },
     "execution_count": 77,
     "metadata": {},
     "output_type": "execute_result"
    }
   ],
   "source": [
    "view = tr.select_one('.view_cnt').get_text().strip()    # int로 바꿔야함\n",
    "video = (tr.select_one('.video_cnt').get_text()[:-1])\n",
    "view, video"
   ]
  },
  {
   "cell_type": "code",
   "execution_count": 78,
   "metadata": {},
   "outputs": [],
   "source": [
    "# 문자열 s -> int(s)로 바꿔주는 함수\n",
    "def convert(s):\n",
    "    s= s.replace('억','').replace('개','').replace(',','').replace('만','0000')\n",
    "    return int(s)"
   ]
  },
  {
   "cell_type": "code",
   "execution_count": 79,
   "metadata": {},
   "outputs": [
    {
     "data": {
      "text/plain": [
       "3338260"
      ]
     },
     "execution_count": 79,
     "metadata": {},
     "output_type": "execute_result"
    }
   ],
   "source": [
    "convert('333억8260')"
   ]
  },
  {
   "attachments": {},
   "cell_type": "markdown",
   "metadata": {},
   "source": [
    "- Step4"
   ]
  },
  {
   "cell_type": "code",
   "execution_count": 80,
   "metadata": {},
   "outputs": [],
   "source": [
    "lines = []\n",
    "for tr in trs:\n",
    "    rank = int(tr.select_one('.rank').get_text().strip())\n",
    "    category= tr.select_one('.category').get_text().strip()[1:-1]\n",
    "    channel = tr.select_one('h1 > a').get_text().strip()\n",
    "    subs = convert(tr.select_one('.subscriber_cnt').get_text().strip())\n",
    "    view = convert(tr.select_one('.view_cnt').get_text().strip())\n",
    "    video = convert((tr.select_one('.video_cnt').get_text()[:-1]))\n",
    "    lines.append({\n",
    "        '순위': rank, '카테고리':category, '채널명':channel, \n",
    "        '구독자수':subs, '조회수':view, '비디오':video\n",
    "        })"
   ]
  },
  {
   "cell_type": "code",
   "execution_count": 81,
   "metadata": {},
   "outputs": [
    {
     "data": {
      "text/html": [
       "<div>\n",
       "<style scoped>\n",
       "    .dataframe tbody tr th:only-of-type {\n",
       "        vertical-align: middle;\n",
       "    }\n",
       "\n",
       "    .dataframe tbody tr th {\n",
       "        vertical-align: top;\n",
       "    }\n",
       "\n",
       "    .dataframe thead th {\n",
       "        text-align: right;\n",
       "    }\n",
       "</style>\n",
       "<table border=\"1\" class=\"dataframe\">\n",
       "  <thead>\n",
       "    <tr style=\"text-align: right;\">\n",
       "      <th></th>\n",
       "      <th>순위</th>\n",
       "      <th>카테고리</th>\n",
       "      <th>채널명</th>\n",
       "      <th>구독자수</th>\n",
       "      <th>조회수</th>\n",
       "      <th>비디오</th>\n",
       "    </tr>\n",
       "  </thead>\n",
       "  <tbody>\n",
       "    <tr>\n",
       "      <th>93</th>\n",
       "      <td>94</td>\n",
       "      <td>음악/댄스/가수</td>\n",
       "      <td>ASTRO 아스트로</td>\n",
       "      <td>5130000</td>\n",
       "      <td>639100000</td>\n",
       "      <td>646</td>\n",
       "    </tr>\n",
       "    <tr>\n",
       "      <th>94</th>\n",
       "      <td>95</td>\n",
       "      <td>TV/방송</td>\n",
       "      <td>MBCdrama</td>\n",
       "      <td>4940000</td>\n",
       "      <td>5779930000</td>\n",
       "      <td>60148</td>\n",
       "    </tr>\n",
       "    <tr>\n",
       "      <th>95</th>\n",
       "      <td>96</td>\n",
       "      <td>키즈/어린이</td>\n",
       "      <td>뽀로로(Pororo)</td>\n",
       "      <td>4910000</td>\n",
       "      <td>6878710000</td>\n",
       "      <td>4182</td>\n",
       "    </tr>\n",
       "    <tr>\n",
       "      <th>96</th>\n",
       "      <td>97</td>\n",
       "      <td>음식/요리/레시피</td>\n",
       "      <td>떵개떵</td>\n",
       "      <td>4890000</td>\n",
       "      <td>2990060000</td>\n",
       "      <td>4924</td>\n",
       "    </tr>\n",
       "    <tr>\n",
       "      <th>97</th>\n",
       "      <td>98</td>\n",
       "      <td>키즈/어린이</td>\n",
       "      <td>ToyMart TV</td>\n",
       "      <td>4860000</td>\n",
       "      <td>1994040000</td>\n",
       "      <td>695</td>\n",
       "    </tr>\n",
       "    <tr>\n",
       "      <th>98</th>\n",
       "      <td>99</td>\n",
       "      <td>애완/반려동물</td>\n",
       "      <td>SBS TV동물농장x애니멀봐</td>\n",
       "      <td>4840000</td>\n",
       "      <td>4654750000</td>\n",
       "      <td>4200</td>\n",
       "    </tr>\n",
       "    <tr>\n",
       "      <th>99</th>\n",
       "      <td>101</td>\n",
       "      <td>미분류</td>\n",
       "      <td>매일맛나 delicious day</td>\n",
       "      <td>4780000</td>\n",
       "      <td>488910000</td>\n",
       "      <td>328</td>\n",
       "    </tr>\n",
       "  </tbody>\n",
       "</table>\n",
       "</div>"
      ],
      "text/plain": [
       "     순위       카테고리                 채널명     구독자수         조회수    비디오\n",
       "93   94   음악/댄스/가수          ASTRO 아스트로  5130000   639100000    646\n",
       "94   95      TV/방송            MBCdrama  4940000  5779930000  60148\n",
       "95   96     키즈/어린이         뽀로로(Pororo)  4910000  6878710000   4182\n",
       "96   97  음식/요리/레시피                 떵개떵  4890000  2990060000   4924\n",
       "97   98     키즈/어린이          ToyMart TV  4860000  1994040000    695\n",
       "98   99    애완/반려동물     SBS TV동물농장x애니멀봐  4840000  4654750000   4200\n",
       "99  101        미분류  매일맛나 delicious day  4780000   488910000    328"
      ]
     },
     "execution_count": 81,
     "metadata": {},
     "output_type": "execute_result"
    }
   ],
   "source": [
    "df=pd.DataFrame(lines)\n",
    "df.tail(7)"
   ]
  },
  {
   "attachments": {},
   "cell_type": "markdown",
   "metadata": {},
   "source": [
    "- 두 번째 페이지"
   ]
  },
  {
   "cell_type": "code",
   "execution_count": 82,
   "metadata": {},
   "outputs": [
    {
     "data": {
      "text/plain": [
       "100"
      ]
     },
     "execution_count": 82,
     "metadata": {},
     "output_type": "execute_result"
    }
   ],
   "source": [
    "url = 'https://youtube-rank.com/board/bbs/board.php?bo_table=youtube&page=' + str(2)\n",
    "driver.get(url)\n",
    "time.sleep(2)\n",
    "soup = BeautifulSoup(driver.page_source, 'html.parser')\n",
    "trs = soup.select('.aos-init')\n",
    "len(trs)"
   ]
  },
  {
   "cell_type": "code",
   "execution_count": 83,
   "metadata": {},
   "outputs": [],
   "source": [
    "driver.close()"
   ]
  },
  {
   "cell_type": "code",
   "execution_count": 84,
   "metadata": {},
   "outputs": [
    {
     "name": "stderr",
     "output_type": "stream",
     "text": [
      "100%|██████████| 10/10 [00:37<00:00,  3.80s/it]\n"
     ]
    }
   ],
   "source": [
    "# 1~ 모든 p\n",
    "lines = []\n",
    "driver = webdriver.Chrome('C:/Users/YONSAI/Downloads/chromedriver_win32/chromedriver.exe')\n",
    "for page in tqdm(range(1, 11)):\n",
    "    url = 'https://youtube-rank.com/board/bbs/board.php?bo_table=youtube&page=' + str(page)\n",
    "    driver.get(url)\n",
    "    time.sleep(2)\n",
    "    soup = BeautifulSoup(driver.page_source, 'html.parser')\n",
    "    trs = soup.select('.aos-init')\n",
    "    \n",
    "    for tr in trs:\n",
    "        rank = int(tr.select_one('.rank').get_text().strip())\n",
    "        category= tr.select_one('.category').get_text().strip()[1:-1]\n",
    "        channel = tr.select_one('h1 > a').get_text().strip()\n",
    "        subs = convert(tr.select_one('.subscriber_cnt').get_text().strip())\n",
    "        view = convert(tr.select_one('.view_cnt').get_text().strip())\n",
    "        video = convert((tr.select_one('.video_cnt').get_text()[:-1]))\n",
    "        lines.append({\n",
    "            '순위': rank, '카테고리':category, '채널명':channel, \n",
    "            '구독자수':subs, '조회수':view, '비디오':video\n",
    "            })\n",
    "        \n",
    "driver.close()"
   ]
  },
  {
   "attachments": {},
   "cell_type": "markdown",
   "metadata": {},
   "source": [
    "- Step 7"
   ]
  },
  {
   "cell_type": "code",
   "execution_count": 85,
   "metadata": {},
   "outputs": [
    {
     "data": {
      "text/plain": [
       "(1000, 6)"
      ]
     },
     "execution_count": 85,
     "metadata": {},
     "output_type": "execute_result"
    }
   ],
   "source": [
    "df = pd.DataFrame(lines)\n",
    "df.shape"
   ]
  },
  {
   "cell_type": "code",
   "execution_count": 86,
   "metadata": {},
   "outputs": [
    {
     "data": {
      "text/html": [
       "<div>\n",
       "<style scoped>\n",
       "    .dataframe tbody tr th:only-of-type {\n",
       "        vertical-align: middle;\n",
       "    }\n",
       "\n",
       "    .dataframe tbody tr th {\n",
       "        vertical-align: top;\n",
       "    }\n",
       "\n",
       "    .dataframe thead th {\n",
       "        text-align: right;\n",
       "    }\n",
       "</style>\n",
       "<table border=\"1\" class=\"dataframe\">\n",
       "  <thead>\n",
       "    <tr style=\"text-align: right;\">\n",
       "      <th></th>\n",
       "      <th>순위</th>\n",
       "      <th>카테고리</th>\n",
       "      <th>채널명</th>\n",
       "      <th>구독자수</th>\n",
       "      <th>조회수</th>\n",
       "      <th>비디오</th>\n",
       "    </tr>\n",
       "  </thead>\n",
       "  <tbody>\n",
       "    <tr>\n",
       "      <th>995</th>\n",
       "      <td>1003</td>\n",
       "      <td>미분류</td>\n",
       "      <td>빨간내복야코</td>\n",
       "      <td>730000</td>\n",
       "      <td>508340000</td>\n",
       "      <td>246</td>\n",
       "    </tr>\n",
       "    <tr>\n",
       "      <th>996</th>\n",
       "      <td>997</td>\n",
       "      <td>키즈/어린이</td>\n",
       "      <td>코코몽 COCOMONG TV - Cartoon &amp; Song For Kids</td>\n",
       "      <td>730000</td>\n",
       "      <td>951630000</td>\n",
       "      <td>1420</td>\n",
       "    </tr>\n",
       "    <tr>\n",
       "      <th>997</th>\n",
       "      <td>996</td>\n",
       "      <td>취미/라이프</td>\n",
       "      <td>DanoTV</td>\n",
       "      <td>730000</td>\n",
       "      <td>158420000</td>\n",
       "      <td>642</td>\n",
       "    </tr>\n",
       "    <tr>\n",
       "      <th>998</th>\n",
       "      <td>1001</td>\n",
       "      <td>미분류</td>\n",
       "      <td>김지윤의 지식Play</td>\n",
       "      <td>730000</td>\n",
       "      <td>59060000</td>\n",
       "      <td>186</td>\n",
       "    </tr>\n",
       "    <tr>\n",
       "      <th>999</th>\n",
       "      <td>1000</td>\n",
       "      <td>미분류</td>\n",
       "      <td>성창경TV</td>\n",
       "      <td>730000</td>\n",
       "      <td>1036110000</td>\n",
       "      <td>16348</td>\n",
       "    </tr>\n",
       "  </tbody>\n",
       "</table>\n",
       "</div>"
      ],
      "text/plain": [
       "       순위    카테고리                                        채널명    구독자수   \n",
       "995  1003     미분류                                     빨간내복야코  730000  \\\n",
       "996   997  키즈/어린이  코코몽 COCOMONG TV - Cartoon & Song For Kids  730000   \n",
       "997   996  취미/라이프                                     DanoTV  730000   \n",
       "998  1001     미분류                                김지윤의 지식Play  730000   \n",
       "999  1000     미분류                                      성창경TV  730000   \n",
       "\n",
       "            조회수    비디오  \n",
       "995   508340000    246  \n",
       "996   951630000   1420  \n",
       "997   158420000    642  \n",
       "998    59060000    186  \n",
       "999  1036110000  16348  "
      ]
     },
     "execution_count": 86,
     "metadata": {},
     "output_type": "execute_result"
    }
   ],
   "source": [
    "df.tail()"
   ]
  },
  {
   "cell_type": "code",
   "execution_count": 87,
   "metadata": {},
   "outputs": [],
   "source": [
    "df.to_csv('data/20230425_유튜브랭킹.csv', index=False)"
   ]
  },
  {
   "cell_type": "code",
   "execution_count": null,
   "metadata": {},
   "outputs": [],
   "source": []
  }
 ],
 "metadata": {
  "kernelspec": {
   "display_name": "base",
   "language": "python",
   "name": "python3"
  },
  "language_info": {
   "codemirror_mode": {
    "name": "ipython",
    "version": 3
   },
   "file_extension": ".py",
   "mimetype": "text/x-python",
   "name": "python",
   "nbconvert_exporter": "python",
   "pygments_lexer": "ipython3",
   "version": "3.10.10"
  },
  "orig_nbformat": 4
 },
 "nbformat": 4,
 "nbformat_minor": 2
}
