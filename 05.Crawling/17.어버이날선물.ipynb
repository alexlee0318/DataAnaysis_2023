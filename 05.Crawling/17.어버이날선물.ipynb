{
 "cells": [
  {
   "cell_type": "code",
   "execution_count": 1,
   "metadata": {},
   "outputs": [],
   "source": [
    "import requests\n",
    "import pandas as pd\n",
    "from selenium import webdriver\n",
    "from selenium.webdriver.common.by import By\n",
    "from selenium.webdriver.common.keys import Keys\n",
    "from tqdm import tqdm\n",
    "from urllib.parse import quote\n",
    "from bs4 import BeautifulSoup\n",
    "import time\n",
    "import warnings\n",
    "warnings.filterwarnings('ignore')"
   ]
  },
  {
   "attachments": {},
   "cell_type": "markdown",
   "metadata": {},
   "source": [
    "- 1. 지식인 '어버이날 검색' 결과 페이지"
   ]
  },
  {
   "cell_type": "code",
   "execution_count": 2,
   "metadata": {},
   "outputs": [],
   "source": [
    "#https://kin.naver.com/search/list.naver?query=%EC%96%B4%EB%B2%84%EC%9D%B4%EB%82%A0%20%EC%84%A0%EB%AC%BC&page=1\n",
    "url = 'https://kin.naver.com/search/list.naver?query=' + quote(\"어버이날선물\")\n",
    "driver =webdriver.Chrome('file:///C:/Users/YONSAI/Downloads/chromedriver_win32/chromedriver')\n",
    "driver.get(url)\n",
    "time.sleep(2)\n",
    "# driver.find_element(By.XPATH, '//*[@id=\"s_content\"]/div[3]/div[2]/a[1]').click()"
   ]
  },
  {
   "cell_type": "code",
   "execution_count": 3,
   "metadata": {},
   "outputs": [],
   "source": [
    "# metro = driver.find_element(By.XPATH, '')"
   ]
  },
  {
   "cell_type": "code",
   "execution_count": 8,
   "metadata": {},
   "outputs": [
    {
     "ename": "NameError",
     "evalue": "name 'soup' is not defined",
     "output_type": "error",
     "traceback": [
      "\u001b[1;31m---------------------------------------------------------------------------\u001b[0m",
      "\u001b[1;31mNameError\u001b[0m                                 Traceback (most recent call last)",
      "Cell \u001b[1;32mIn[8], line 2\u001b[0m\n\u001b[0;32m      1\u001b[0m \u001b[39m# 한 페이지 당 게시물 수 10개\u001b[39;00m\n\u001b[1;32m----> 2\u001b[0m lis \u001b[39m=\u001b[39m soup\u001b[39m.\u001b[39mselect(\u001b[39m'\u001b[39m\u001b[39m.basic1 > li\u001b[39m\u001b[39m'\u001b[39m)\n\u001b[0;32m      3\u001b[0m \u001b[39mlen\u001b[39m(lis)\n",
      "\u001b[1;31mNameError\u001b[0m: name 'soup' is not defined"
     ]
    }
   ],
   "source": [
    "# 한 페이지 당 게시물 수 10개\n",
    "lis = soup.select('.basic1 > li')\n",
    "len(lis)"
   ]
  },
  {
   "attachments": {},
   "cell_type": "markdown",
   "metadata": {},
   "source": [
    "- 첫 번째 게시물 추출"
   ]
  },
  {
   "cell_type": "code",
   "execution_count": 32,
   "metadata": {},
   "outputs": [
    {
     "data": {
      "text/plain": [
       "'https://kin.naver.com/qna/detail.naver?d1id=5&dirId=508&docId=443753678&qb=7Ja067KE7J2064Kg7ISg66y8&enc=utf8&section=kin&rank=1&search_sort=0&spq=0'"
      ]
     },
     "execution_count": 32,
     "metadata": {},
     "output_type": "execute_result"
    }
   ],
   "source": [
    "# 게시물1 링크 가져오기\n",
    "li = lis[0]\n",
    "\n",
    "href = li.find('a')['href']\n",
    "\n",
    "href"
   ]
  },
  {
   "cell_type": "code",
   "execution_count": 33,
   "metadata": {},
   "outputs": [
    {
     "data": {
      "text/plain": [
       "'https://kin.naver.com/qna/detail.naver?d1id=1&dirId=1060115&docId=418501108&qb=7Ja067KE7J2064Kg7ISg66y8&enc=utf8&section=kin&rank=2&search_sort=0&spq=0'"
      ]
     },
     "execution_count": 33,
     "metadata": {},
     "output_type": "execute_result"
    }
   ],
   "source": [
    "# 게시물2 링크 가져오기\n",
    "li = lis[1]\n",
    "\n",
    "href = li.find('a')['href']\n",
    "\n",
    "href"
   ]
  },
  {
   "cell_type": "code",
   "execution_count": null,
   "metadata": {},
   "outputs": [],
   "source": [
    "# p로 이동- 버튼 클릭\n",
    "p = []\n",
    "for i in len(lis):\n",
    "    pages = f'//*[@id=\"s_content\"]/div[3]/div[2]/a'\n",
    "    driver.find_element(By.XPATH, '//*[@id=\"s_content\"]/div[3]/div[2]/a[i+1]').click()"
   ]
  },
  {
   "cell_type": "code",
   "execution_count": 3,
   "metadata": {},
   "outputs": [
    {
     "ename": "AttributeError",
     "evalue": "'int' object has no attribute 'find'",
     "output_type": "error",
     "traceback": [
      "\u001b[1;31m---------------------------------------------------------------------------\u001b[0m",
      "\u001b[1;31mAttributeError\u001b[0m                            Traceback (most recent call last)",
      "Cell \u001b[1;32mIn[3], line 5\u001b[0m\n\u001b[0;32m      1\u001b[0m lines \u001b[39m=\u001b[39m []\n\u001b[0;32m      4\u001b[0m \u001b[39mfor\u001b[39;00m li \u001b[39min\u001b[39;00m \u001b[39mrange\u001b[39m(\u001b[39m11\u001b[39m):\n\u001b[1;32m----> 5\u001b[0m     href \u001b[39m=\u001b[39m li\u001b[39m.\u001b[39;49mfind(\u001b[39m'\u001b[39m\u001b[39ma\u001b[39m\u001b[39m'\u001b[39m)[\u001b[39m'\u001b[39m\u001b[39mhref\u001b[39m\u001b[39m'\u001b[39m]\n\u001b[0;32m      7\u001b[0m     lines\u001b[39m.\u001b[39mappend(href)\n\u001b[0;32m      8\u001b[0m lines\n",
      "\u001b[1;31mAttributeError\u001b[0m: 'int' object has no attribute 'find'"
     ]
    }
   ],
   "source": [
    "lines = []\n",
    "\n",
    "for li in lis:\n",
    "    href = li.find('a')['href']\n",
    "\n",
    "    lines.append(href)\n",
    "lines\n",
    "\n",
    "# p = []\n",
    "# for i in len(lis):\n"
   ]
  },
  {
   "cell_type": "code",
   "execution_count": 31,
   "metadata": {},
   "outputs": [],
   "source": [
    "# # 링크 개수\n",
    "# h_list = []\n",
    "# for i in int(len(lis)):\n",
    "#     li =lis[i]\n",
    "#     href = li.find('a')['href']\n",
    "#     h_list.append([href])\n",
    "# h_list"
   ]
  },
  {
   "cell_type": "code",
   "execution_count": 22,
   "metadata": {},
   "outputs": [
    {
     "data": {
      "text/plain": [
       "'t'"
      ]
     },
     "execution_count": 22,
     "metadata": {},
     "output_type": "execute_result"
    }
   ],
   "source": [
    "# href_list = []\n",
    "# for li in lis:\n",
    "href_1 = li.find('a')['href'][1]\n",
    "href_1"
   ]
  },
  {
   "cell_type": "code",
   "execution_count": 16,
   "metadata": {},
   "outputs": [],
   "source": [
    "# 게시물 10개 링크 가져오기\n",
    "lines = []\n",
    "for i in range(len(lis)):\n",
    "    li = lis[i]\n",
    "    href = li.find('a')['href']\n",
    "href=\"https://kin.naver.com/qna/detail.naver?d1id=5&dirId=508&docId=443753678&qb=7Ja067KE7J2064Kg7ISg66y8&enc=utf8&section=kin&rank=2&search_sort=0&spq=0\""
   ]
  },
  {
   "attachments": {},
   "cell_type": "markdown",
   "metadata": {},
   "source": [
    "- 페이지에서 링크 가져오기"
   ]
  },
  {
   "cell_type": "code",
   "execution_count": null,
   "metadata": {},
   "outputs": [],
   "source": [
    "# 2p로 이동- 버튼 클릭\n",
    "driver.find_element(By.XPATH, '//*[@id=\"s_content\"]/div[3]/div[2]/a[1]').click()\n",
    "driver.find_element(By.XPATH, '//*[@id=\"s_content\"]/div[3]/div[2]/a[2]').click()\n",
    "driver.find_element(By.XPATH, '//*[@id=\"s_content\"]/div[3]/div[2]/a[3]').click()\n",
    "driver.find_element(By.XPATH, '//*[@id=\"s_content\"]/div[3]/div[2]/a[4]').click()\n",
    "driver.find_element(By.XPATH, '//*[@id=\"s_content\"]/div[3]/div[2]/a[5]').click()"
   ]
  },
  {
   "cell_type": "code",
   "execution_count": 15,
   "metadata": {},
   "outputs": [],
   "source": [
    "p로 이동- 버튼 클릭\n",
    "p = []\n",
    "for i in len(lis):\n",
    "    pages = f'//*[@id=\"s_content\"]/div[3]/div[2]/a'\n",
    "    driver.find_element(By.XPATH, '//*[@id=\"s_content\"]/div[3]/div[2]/a[i+1]').click()"
   ]
  },
  {
   "cell_type": "code",
   "execution_count": null,
   "metadata": {},
   "outputs": [],
   "source": [
    "# 페이지 이동해서 HTML 코드를 BeautifulSoup으로 parsing\n",
    "soup = BeautifulSoup(driver.page_source, 'html.parser') #html.parser생략가능\n",
    "lis = soup.select('.stations-list > li')\n",
    "len(lis)"
   ]
  },
  {
   "cell_type": "code",
   "execution_count": 7,
   "metadata": {},
   "outputs": [],
   "source": [
    "sub_res = requests.get(href)\n",
    "sub_soup = BeautifulSoup(sub_res.text, 'html.parser')"
   ]
  },
  {
   "cell_type": "code",
   "execution_count": 8,
   "metadata": {},
   "outputs": [
    {
     "data": {
      "text/plain": [
       "5"
      ]
     },
     "execution_count": 8,
     "metadata": {},
     "output_type": "execute_result"
    }
   ],
   "source": [
    "sub_lis = sub_soup.select('.se-fs-.se-ff-')\n",
    "len(sub_lis)"
   ]
  },
  {
   "cell_type": "code",
   "execution_count": null,
   "metadata": {},
   "outputs": [],
   "source": []
  }
 ],
 "metadata": {
  "kernelspec": {
   "display_name": "base",
   "language": "python",
   "name": "python3"
  },
  "language_info": {
   "codemirror_mode": {
    "name": "ipython",
    "version": 3
   },
   "file_extension": ".py",
   "mimetype": "text/x-python",
   "name": "python",
   "nbconvert_exporter": "python",
   "pygments_lexer": "ipython3",
   "version": "3.10.10"
  },
  "orig_nbformat": 4
 },
 "nbformat": 4,
 "nbformat_minor": 2
}
