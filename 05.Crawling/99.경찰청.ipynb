{
 "cells": [
  {
   "cell_type": "code",
   "execution_count": 1,
   "metadata": {},
   "outputs": [],
   "source": [
    "import requests\n",
    "import pandas as pd\n",
    "from tqdm import tqdm\n",
    "from urllib.parse import quote\n",
    "from bs4 import BeautifulSoup\n",
    "from selenium import webdriver\n",
    "import warnings\n",
    "warnings.filterwarnings('ignore')"
   ]
  },
  {
   "cell_type": "code",
   "execution_count": 2,
   "metadata": {},
   "outputs": [],
   "source": [
    "base_url = 'https://www.ggpolice.go.kr'\n",
    "main_url = '/main/html.do?menu=HC44'\n",
    "url = f'{base_url}{main_url}'\n",
    "result = requests.get(bm_url)\n",
    "soup = BeautifulSoup(result.text, 'html.parser')\n",
    "driver =webdriver.Chrome('file:///C:/Users/YONSAI/Downloads/chromedriver_win32/chromedriver')\n",
    "driver.get(bm_url)"
   ]
  },
  {
   "cell_type": "code",
   "execution_count": 3,
   "metadata": {},
   "outputs": [
    {
     "data": {
      "text/plain": [
       "31"
      ]
     },
     "execution_count": 3,
     "metadata": {},
     "output_type": "execute_result"
    }
   ],
   "source": [
    "soup = BeautifulSoup(driver.page_source)\n",
    "lis = soup.select('.road')\n",
    "len(lis)"
   ]
  },
  {
   "cell_type": "code",
   "execution_count": 4,
   "metadata": {},
   "outputs": [],
   "source": [
    "li= lis[0]"
   ]
  },
  {
   "attachments": {},
   "cell_type": "markdown",
   "metadata": {},
   "source": [
    "- 수원중부서 하나만 찾아보기\n",
    "    - sub_page 접근하기\n",
    "    - "
   ]
  },
  {
   "cell_type": "code",
   "execution_count": 7,
   "metadata": {},
   "outputs": [],
   "source": [
    "sub_url = li.select_one('a')['href']"
   ]
  },
  {
   "cell_type": "code",
   "execution_count": 8,
   "metadata": {},
   "outputs": [],
   "source": [
    "# 각 부처 사이트\n",
    "res = requests.get(sub_url)\n",
    "title_soup = BeautifulSoup(res.text, 'html.parser')"
   ]
  },
  {
   "cell_type": "code",
   "execution_count": 46,
   "metadata": {},
   "outputs": [
    {
     "data": {
      "text/plain": [
       "[<li>기관명 : 수원중부경찰서</li>,\n",
       " <li>도로명 주소 : 경기도 수원시 장안구 정자천로 199 (우)16335</li>,\n",
       " <li>대표전화 : 경찰민원 콜센터 182</li>]"
      ]
     },
     "execution_count": 46,
     "metadata": {},
     "output_type": "execute_result"
    }
   ],
   "source": [
    "# 주소\n",
    "info = title_soup.select_one('.basic_list7').find_all('li')\n",
    "info"
   ]
  },
  {
   "cell_type": "code",
   "execution_count": 61,
   "metadata": {},
   "outputs": [
    {
     "data": {
      "text/plain": [
       "(' 수원중부경찰서', ' 경기도 수원시 장안구 정자천로 199 (우)16335')"
      ]
     },
     "execution_count": 61,
     "metadata": {},
     "output_type": "execute_result"
    }
   ],
   "source": [
    "police = info[0].get_text().strip().split(':')[1]\n",
    "addr = info[1].get_text().strip().split(':')[1]\n",
    "police, addr"
   ]
  },
  {
   "cell_type": "code",
   "execution_count": 62,
   "metadata": {},
   "outputs": [
    {
     "data": {
      "text/plain": [
       "[{'경찰서': ' 수원중부경찰서', '주소': ' 경기도 수원시 장안구 정자천로 199 (우)16335'},\n",
       " {'경찰서': ' 수원중부경찰서', '주소': ' 경기도 수원시 장안구 정자천로 199 (우)16335'},\n",
       " {'경찰서': ' 수원중부경찰서', '주소': ' 경기도 수원시 장안구 정자천로 199 (우)16335'}]"
      ]
     },
     "execution_count": 62,
     "metadata": {},
     "output_type": "execute_result"
    }
   ],
   "source": [
    "line = []\n",
    "for li in info:\n",
    "    police = info[0].get_text().strip().split(':')[1]\n",
    "    addr = info[1].get_text().strip().split(':')[1]\n",
    "    line.append({'경찰서': police, '주소':addr})\n",
    "line"
   ]
  },
  {
   "cell_type": "code",
   "execution_count": null,
   "metadata": {},
   "outputs": [],
   "source": []
  }
 ],
 "metadata": {
  "kernelspec": {
   "display_name": "base",
   "language": "python",
   "name": "python3"
  },
  "language_info": {
   "codemirror_mode": {
    "name": "ipython",
    "version": 3
   },
   "file_extension": ".py",
   "mimetype": "text/x-python",
   "name": "python",
   "nbconvert_exporter": "python",
   "pygments_lexer": "ipython3",
   "version": "3.10.10"
  },
  "orig_nbformat": 4
 },
 "nbformat": 4,
 "nbformat_minor": 2
}
