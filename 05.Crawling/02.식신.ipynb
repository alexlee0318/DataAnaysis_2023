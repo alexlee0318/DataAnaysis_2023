{
 "cells": [
  {
   "attachments": {},
   "cell_type": "markdown",
   "metadata": {},
   "source": [
    "### 식신 - 장안문"
   ]
  },
  {
   "cell_type": "code",
   "execution_count": 1,
   "metadata": {},
   "outputs": [],
   "source": [
    "import requests\n",
    "from urllib.parse import quote  # 한글 인코딩에 필요\n",
    "import pandas as pd # 결과는 DF로 볼 것이므로\n",
    "from bs4 import BeautifulSoup"
   ]
  },
  {
   "cell_type": "code",
   "execution_count": 2,
   "metadata": {},
   "outputs": [],
   "source": [
    "# https://www.siksinhot.com/search?keywords=%EC%9E%A5%EC%95%88%EB%AC%B8\n",
    "base_url = 'https://www.siksinhot.com/search'\n",
    "url = f'{base_url}?keywords={quote(\"장안문\")}'\n",
    "result = requests.get(url)\n",
    "html = result.text"
   ]
  },
  {
   "cell_type": "code",
   "execution_count": 3,
   "metadata": {},
   "outputs": [],
   "source": [
    "soup = BeautifulSoup(result.text, 'html.parser')"
   ]
  },
  {
   "attachments": {},
   "cell_type": "markdown",
   "metadata": {},
   "source": [
    "### 2. 원하는 데이터 찾기"
   ]
  },
  {
   "cell_type": "code",
   "execution_count": 4,
   "metadata": {},
   "outputs": [
    {
     "data": {
      "text/plain": [
       "20"
      ]
     },
     "execution_count": 4,
     "metadata": {},
     "output_type": "execute_result"
    }
   ],
   "source": [
    "# li 개수 추출, 확인\n",
    "\n",
    "# 방법 1\n",
    "lis = soup.select_one('.localFood_list').find_all('li') # 20\n",
    "len(lis)\n",
    "\n",
    "# 방법 2\n",
    "lis = soup.select('.localFood_list > li')   # 20\n",
    "len(lis)"
   ]
  },
  {
   "cell_type": "code",
   "execution_count": 5,
   "metadata": {},
   "outputs": [],
   "source": [
    "# 잘못된 식\n",
    "lis = soup.find_all('li')  # 28"
   ]
  },
  {
   "attachments": {},
   "cell_type": "markdown",
   "metadata": {},
   "source": [
    "### 3. 하나를 선택해서 원하는 정보 추출"
   ]
  },
  {
   "cell_type": "code",
   "execution_count": 6,
   "metadata": {},
   "outputs": [
    {
     "ename": "TypeError",
     "evalue": "'NoneType' object is not subscriptable",
     "output_type": "error",
     "traceback": [
      "\u001b[1;31m---------------------------------------------------------------------------\u001b[0m",
      "\u001b[1;31mTypeError\u001b[0m                                 Traceback (most recent call last)",
      "Cell \u001b[1;32mIn[6], line 4\u001b[0m\n\u001b[0;32m      1\u001b[0m li \u001b[39m=\u001b[39m lis[\u001b[39m0\u001b[39m]\n\u001b[0;32m      3\u001b[0m \u001b[39m# img 소스 추출1\u001b[39;00m\n\u001b[1;32m----> 4\u001b[0m img \u001b[39m=\u001b[39m li\u001b[39m.\u001b[39;49mfind(\u001b[39m'\u001b[39;49m\u001b[39mimg\u001b[39;49m\u001b[39m'\u001b[39;49m)[\u001b[39m'\u001b[39;49m\u001b[39msrc\u001b[39;49m\u001b[39m'\u001b[39;49m]\n\u001b[0;32m      5\u001b[0m img\n",
      "\u001b[1;31mTypeError\u001b[0m: 'NoneType' object is not subscriptable"
     ]
    }
   ],
   "source": [
    "li = lis[0]\n",
    "\n",
    "# img 소스 추출1\n",
    "img = li.find('img')['src']\n",
    "img"
   ]
  },
  {
   "cell_type": "code",
   "execution_count": null,
   "metadata": {},
   "outputs": [
    {
     "data": {
      "text/plain": [
       "('장안문', '3.5')"
      ]
     },
     "execution_count": 38,
     "metadata": {},
     "output_type": "execute_result"
    }
   ],
   "source": [
    "# 업소명2, 평점3 추출\n",
    "title = li.select_one('.textBox > h2').get_text()\n",
    "score = li.select_one('.textBox > .score').get_text()\n",
    "title, score"
   ]
  },
  {
   "cell_type": "code",
   "execution_count": null,
   "metadata": {},
   "outputs": [
    {
     "data": {
      "text/plain": [
       "[<a data-reactid=\"67\" href=\"/search?keywords=시청\">시청</a>,\n",
       " <a data-reactid=\"69\" href=\"/search?keywords=돼지갈비\">돼지갈비</a>]"
      ]
     },
     "execution_count": 39,
     "metadata": {},
     "output_type": "execute_result"
    }
   ],
   "source": [
    "# 위치4, 메뉴5\n",
    "atags = li.select('.cate > a')\n",
    "atags"
   ]
  },
  {
   "cell_type": "code",
   "execution_count": null,
   "metadata": {},
   "outputs": [
    {
     "data": {
      "text/plain": [
       "('시청', '돼지갈비')"
      ]
     },
     "execution_count": 40,
     "metadata": {},
     "output_type": "execute_result"
    }
   ],
   "source": [
    "location = atags[0].get_text()\n",
    "menu = atags[1].get_text()\n",
    "location, menu"
   ]
  },
  {
   "attachments": {},
   "cell_type": "markdown",
   "metadata": {},
   "source": [
    "- 반복문을 사용하여 페이지에 있는 데이터 가져오기"
   ]
  },
  {
   "cell_type": "code",
   "execution_count": null,
   "metadata": {},
   "outputs": [],
   "source": []
  },
  {
   "cell_type": "code",
   "execution_count": null,
   "metadata": {},
   "outputs": [],
   "source": []
  },
  {
   "cell_type": "code",
   "execution_count": null,
   "metadata": {},
   "outputs": [
    {
     "ename": "NameError",
     "evalue": "name 'lis' is not defined",
     "output_type": "error",
     "traceback": [
      "\u001b[1;31m---------------------------------------------------------------------------\u001b[0m",
      "\u001b[1;31mNameError\u001b[0m                                 Traceback (most recent call last)",
      "Cell \u001b[1;32mIn[1], line 2\u001b[0m\n\u001b[0;32m      1\u001b[0m line \u001b[39m=\u001b[39m []\n\u001b[1;32m----> 2\u001b[0m \u001b[39mfor\u001b[39;00m li \u001b[39min\u001b[39;00m lis:\n\u001b[0;32m      3\u001b[0m     img \u001b[39m=\u001b[39m li\u001b[39m.\u001b[39mfind(\u001b[39m'\u001b[39m\u001b[39mimg\u001b[39m\u001b[39m'\u001b[39m)[\u001b[39m'\u001b[39m\u001b[39msrc\u001b[39m\u001b[39m'\u001b[39m]\n\u001b[0;32m      4\u001b[0m     title \u001b[39m=\u001b[39m li\u001b[39m.\u001b[39mselect_one(\u001b[39m'\u001b[39m\u001b[39m.textBox > h2\u001b[39m\u001b[39m'\u001b[39m)\u001b[39m.\u001b[39mget_text()\n",
      "\u001b[1;31mNameError\u001b[0m: name 'lis' is not defined"
     ]
    }
   ],
   "source": [
    "line = []\n",
    "for li in lis:\n",
    "    img = li.find('img')['src']\n",
    "    title = li.select_one('.textBox > h2').get_text()\n",
    "    score = li.select_one('.textBox > .score').get_text()\n",
    "    atags = li.select('.cate > a')\n",
    "    location = atags[0].get_text()\n",
    "    menu = atags[1].get_text()\n",
    "    # 딕셔너리 형태로 가져오기\n",
    "    line.append({'img':img, 'title':title, 'score':score, 'location':location, 'menu':menu})\n",
    "    line"
   ]
  },
  {
   "cell_type": "code",
   "execution_count": null,
   "metadata": {},
   "outputs": [],
   "source": []
  },
  {
   "attachments": {},
   "cell_type": "markdown",
   "metadata": {},
   "source": [
    "- 5. 오류발생 - 오류해결"
   ]
  },
  {
   "attachments": {},
   "cell_type": "markdown",
   "metadata": {},
   "source": [
    "6. 모든 페이지에 대해 반복하기"
   ]
  },
  {
   "attachments": {},
   "cell_type": "markdown",
   "metadata": {},
   "source": [
    "## 7. 데이터 프레임으로 만들기"
   ]
  },
  {
   "cell_type": "code",
   "execution_count": null,
   "metadata": {},
   "outputs": [
    {
     "data": {
      "text/html": [
       "<div>\n",
       "<style scoped>\n",
       "    .dataframe tbody tr th:only-of-type {\n",
       "        vertical-align: middle;\n",
       "    }\n",
       "\n",
       "    .dataframe tbody tr th {\n",
       "        vertical-align: top;\n",
       "    }\n",
       "\n",
       "    .dataframe thead th {\n",
       "        text-align: right;\n",
       "    }\n",
       "</style>\n",
       "<table border=\"1\" class=\"dataframe\">\n",
       "  <thead>\n",
       "    <tr style=\"text-align: right;\">\n",
       "      <th></th>\n",
       "      <th>img</th>\n",
       "      <th>title</th>\n",
       "      <th>score</th>\n",
       "      <th>location</th>\n",
       "      <th>menu</th>\n",
       "    </tr>\n",
       "  </thead>\n",
       "  <tbody>\n",
       "    <tr>\n",
       "      <th>0</th>\n",
       "      <td>https://img.siksinhot.com/place/13747035672384...</td>\n",
       "      <td>장안문</td>\n",
       "      <td>3.5</td>\n",
       "      <td>시청</td>\n",
       "      <td>돼지갈비</td>\n",
       "    </tr>\n",
       "    <tr>\n",
       "      <th>1</th>\n",
       "      <td>https://img.siksinhot.com/place/14576724616075...</td>\n",
       "      <td>장안통닭</td>\n",
       "      <td>4.2</td>\n",
       "      <td>수원-팔달구/인계/행궁</td>\n",
       "      <td>치킨/통닭</td>\n",
       "    </tr>\n",
       "    <tr>\n",
       "      <th>2</th>\n",
       "      <td>https://img.siksinhot.com/place/14168290359781...</td>\n",
       "      <td>장안식당</td>\n",
       "      <td>3.7</td>\n",
       "      <td>함평</td>\n",
       "      <td>곱창/대창</td>\n",
       "    </tr>\n",
       "    <tr>\n",
       "      <th>3</th>\n",
       "      <td>https://img.siksinhot.com/place/13594443896888...</td>\n",
       "      <td>장안사 산장</td>\n",
       "      <td>3.5</td>\n",
       "      <td>기장군/정관</td>\n",
       "      <td>삼계탕/백숙/찜닭</td>\n",
       "    </tr>\n",
       "    <tr>\n",
       "      <th>4</th>\n",
       "      <td>https://img.siksinhot.com/place/16099132855466...</td>\n",
       "      <td>장안정</td>\n",
       "      <td>3.7</td>\n",
       "      <td>왕십리/마장/답십리</td>\n",
       "      <td>경양식/돈가스</td>\n",
       "    </tr>\n",
       "  </tbody>\n",
       "</table>\n",
       "</div>"
      ],
      "text/plain": [
       "                                                 img   title score   \n",
       "0  https://img.siksinhot.com/place/13747035672384...     장안문   3.5  \\\n",
       "1  https://img.siksinhot.com/place/14576724616075...    장안통닭   4.2   \n",
       "2  https://img.siksinhot.com/place/14168290359781...    장안식당   3.7   \n",
       "3  https://img.siksinhot.com/place/13594443896888...  장안사 산장   3.5   \n",
       "4  https://img.siksinhot.com/place/16099132855466...     장안정   3.7   \n",
       "\n",
       "       location       menu  \n",
       "0            시청       돼지갈비  \n",
       "1  수원-팔달구/인계/행궁      치킨/통닭  \n",
       "2            함평      곱창/대창  \n",
       "3        기장군/정관  삼계탕/백숙/찜닭  \n",
       "4    왕십리/마장/답십리    경양식/돈가스  "
      ]
     },
     "execution_count": 46,
     "metadata": {},
     "output_type": "execute_result"
    }
   ],
   "source": [
    "df = pd.DataFrame(line)\n",
    "df.head()"
   ]
  },
  {
   "cell_type": "code",
   "execution_count": null,
   "metadata": {},
   "outputs": [],
   "source": []
  }
 ],
 "metadata": {
  "kernelspec": {
   "display_name": "base",
   "language": "python",
   "name": "python3"
  },
  "language_info": {
   "codemirror_mode": {
    "name": "ipython",
    "version": 3
   },
   "file_extension": ".py",
   "mimetype": "text/x-python",
   "name": "python",
   "nbconvert_exporter": "python",
   "pygments_lexer": "ipython3",
   "version": "3.10.10"
  },
  "orig_nbformat": 4
 },
 "nbformat": 4,
 "nbformat_minor": 2
}
