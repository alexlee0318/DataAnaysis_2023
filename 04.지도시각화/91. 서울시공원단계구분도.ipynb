{
 "cells": [
  {
   "cell_type": "code",
   "execution_count": 1,
   "metadata": {},
   "outputs": [],
   "source": [
    "import numpy as np\n",
    "import pandas as pd\n",
    "import folium\n",
    "import json\n",
    "import re"
   ]
  },
  {
   "cell_type": "code",
   "execution_count": 2,
   "metadata": {},
   "outputs": [
    {
     "name": "stdout",
     "output_type": "stream",
     "text": [
      "(132, 20)\n",
      "<class 'pandas.core.frame.DataFrame'>\n",
      "RangeIndex: 132 entries, 0 to 131\n",
      "Data columns (total 20 columns):\n",
      " #   Column        Non-Null Count  Dtype  \n",
      "---  ------        --------------  -----  \n",
      " 0   연번            132 non-null    int64  \n",
      " 1   공원명           132 non-null    object \n",
      " 2   공원개요          131 non-null    object \n",
      " 3   면적            129 non-null    object \n",
      " 4   개원일           122 non-null    object \n",
      " 5   주요시설          124 non-null    object \n",
      " 6   주요식물          88 non-null     object \n",
      " 7   안내도           102 non-null    object \n",
      " 8   오시는길          115 non-null    object \n",
      " 9   이용시참고사항       120 non-null    object \n",
      " 10  이미지           132 non-null    object \n",
      " 11  지역            131 non-null    object \n",
      " 12  공원주소          132 non-null    object \n",
      " 13  관리부서          132 non-null    object \n",
      " 14  전화번호          132 non-null    object \n",
      " 15  X좌표(GRS80TM)  122 non-null    float64\n",
      " 16  Y좌표(GRS80TM)  122 non-null    float64\n",
      " 17  X좌표(WGS84)    131 non-null    float64\n",
      " 18  Y좌표(WGS84)    131 non-null    float64\n",
      " 19  바로가기          18 non-null     object \n",
      "dtypes: float64(4), int64(1), object(15)\n",
      "memory usage: 20.8+ KB\n"
     ]
    }
   ],
   "source": [
    "park = pd.read_csv('data/서울시 주요 공원현황.csv', encoding='euc-kr')\n",
    "print(park.shape)\n",
    "park.info()"
   ]
  },
  {
   "cell_type": "code",
   "execution_count": 3,
   "metadata": {},
   "outputs": [],
   "source": [
    "park = park[['면적', '공원주소',]]\n",
    "park.columns = ['면적', '공원주소']\n",
    "park.dropna(subset=['면적'], inplace=True)\n",
    "# 과천시 삭제\n",
    "# 면적 이상치 삭제\n",
    "park.drop([2, 6], inplace=True)\n",
    "# 총 144m 같은 데이터에서 '총 ' 지우기\n",
    "park.면적 = park.면적.str.replace('총 ', '')\n",
    "park.면적 = park.면적.apply(lambda x: re.split('[㎡m㎥]', x)[0])\n",
    "park.면적 = park.면적.astype(float).astype(int)"
   ]
  },
  {
   "cell_type": "code",
   "execution_count": 4,
   "metadata": {},
   "outputs": [
    {
     "data": {
      "text/plain": [
       "면적      0\n",
       "공원주소    0\n",
       "dtype: int64"
      ]
     },
     "execution_count": 4,
     "metadata": {},
     "output_type": "execute_result"
    }
   ],
   "source": [
    "park.isna().sum()\n"
   ]
  },
  {
   "cell_type": "code",
   "execution_count": 5,
   "metadata": {},
   "outputs": [
    {
     "ename": "IndentationError",
     "evalue": "expected an indented block after function definition on line 2 (2601047032.py, line 3)",
     "output_type": "error",
     "traceback": [
      "\u001b[1;36m  Cell \u001b[1;32mIn[5], line 3\u001b[1;36m\u001b[0m\n\u001b[1;33m    gu_dict = {}\u001b[0m\n\u001b[1;37m    ^\u001b[0m\n\u001b[1;31mIndentationError\u001b[0m\u001b[1;31m:\u001b[0m expected an indented block after function definition on line 2\n"
     ]
    }
   ],
   "source": [
    "# 각 구별로 평균 위치 구하기\n",
    "def get_text_location(geo_str):\n",
    "gu_dict = {}\n",
    "for gu in geo_str['features']:\n",
    "for coord in gu['geometry']['coordinates']:\n",
    "geo = np.array(coord)\n",
    "gu_dict[gu['id']] = [np.mean(geo[:,1]), np.mean(geo[:,0])]\n",
    "return gu_dict\n",
    "gu_dict = get_text_location(geo_data)\n"
   ]
  },
  {
   "cell_type": "code",
   "execution_count": null,
   "metadata": {},
   "outputs": [],
   "source": [
    "# 구 이름 표시\n",
    "def show_gu_name(m_park, m_dict, m_map):\n",
    "for gu_name in m_park.index:\n",
    "folium.map.Marker(\n",
    "location=m_dict[gu_name],\n",
    "icon=folium.DivIcon(icon_size=(80,20), icon_anchor=(20, 0),\n",
    "html=f'<div style=\"font-size: 10pt\">{gu_n\n",
    ").add_to(m_map)"
   ]
  },
  {
   "cell_type": "code",
   "execution_count": null,
   "metadata": {},
   "outputs": [],
   "source": [
    "smap = folium.Map([37.55, 126.98], zoom_start=11, tiles='Stamen Toner')\n",
    "folium.Choropleth(\n",
    "geo_data=geo_data,\n",
    "data=spark.면적,\n",
    "columns=[spark.index, spark.면적],\n",
    "fill_color='PuRd',\n",
    "key_on='feature.id'\n",
    ").add_to(smap)\n",
    "show_gu_name(spark, gu_dict, smap)\n",
    "smap\n"
   ]
  },
  {
   "attachments": {},
   "cell_type": "markdown",
   "metadata": {},
   "source": [
    "- 자치구별 인당 공원면적 단계구분도"
   ]
  },
  {
   "cell_type": "code",
   "execution_count": null,
   "metadata": {},
   "outputs": [],
   "source": [
    "\n",
    "pop = pd.read_csv('../02.Pandas/data/pop.csv')\n",
    "pop.head()\n"
   ]
  },
  {
   "cell_type": "code",
   "execution_count": null,
   "metadata": {},
   "outputs": [],
   "source": [
    "smap = folium.Map([37.55, 126.98], zoom_start=11, tiles='Stamen Toner')\n",
    "folium.Choropleth(\n",
    "geo_data=geo_data,\n",
    "data=ppark.인당공원면적비율,\n",
    "columns=[ppark.index, ppark.인당공원면적비율],\n",
    "fill_color='Greens',\n",
    "key_on='feature.id'\n",
    ").add_to(smap)\n",
    "show_gu_name(ppark, gu_dict, smap)\n",
    "smap\n"
   ]
  }
 ],
 "metadata": {
  "kernelspec": {
   "display_name": "base",
   "language": "python",
   "name": "python3"
  },
  "language_info": {
   "codemirror_mode": {
    "name": "ipython",
    "version": 3
   },
   "file_extension": ".py",
   "mimetype": "text/x-python",
   "name": "python",
   "nbconvert_exporter": "python",
   "pygments_lexer": "ipython3",
   "version": "3.10.10"
  },
  "orig_nbformat": 4
 },
 "nbformat": 4,
 "nbformat_minor": 2
}
