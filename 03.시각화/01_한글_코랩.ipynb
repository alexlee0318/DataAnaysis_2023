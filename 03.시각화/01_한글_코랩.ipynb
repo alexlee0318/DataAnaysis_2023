{
  "nbformat": 4,
  "nbformat_minor": 0,
  "metadata": {
    "colab": {
      "provenance": []
    },
    "kernelspec": {
      "name": "python3",
      "display_name": "Python 3"
    },
    "language_info": {
      "name": "python"
    }
  },
  "cells": [
    {
      "cell_type": "markdown",
      "source": [
        "# Matplotlib 한글사용 - Colab"
      ],
      "metadata": {
        "id": "bf4twYmK6_WV"
      }
    },
    {
      "cell_type": "markdown",
      "source": [
        "- 한글패치"
      ],
      "metadata": {
        "id": "NXwc4Jhw9Q2n"
      }
    },
    {
      "cell_type": "code",
      "source": [
        "!apt-get install -y fonts-nanum"
      ],
      "metadata": {
        "colab": {
          "base_uri": "https://localhost:8080/"
        },
        "id": "LeW_RaTY7Dw9",
        "outputId": "5445ac45-ac12-4865-afc8-53b0995f7c74"
      },
      "execution_count": 1,
      "outputs": [
        {
          "output_type": "stream",
          "name": "stdout",
          "text": [
            "Reading package lists... Done\n",
            "Building dependency tree       \n",
            "Reading state information... Done\n",
            "The following NEW packages will be installed:\n",
            "  fonts-nanum\n",
            "0 upgraded, 1 newly installed, 0 to remove and 24 not upgraded.\n",
            "Need to get 9,599 kB of archives.\n",
            "After this operation, 29.6 MB of additional disk space will be used.\n",
            "Get:1 http://archive.ubuntu.com/ubuntu focal/universe amd64 fonts-nanum all 20180306-3 [9,599 kB]\n",
            "Fetched 9,599 kB in 1s (8,312 kB/s)\n",
            "Selecting previously unselected package fonts-nanum.\n",
            "(Reading database ... 122349 files and directories currently installed.)\n",
            "Preparing to unpack .../fonts-nanum_20180306-3_all.deb ...\n",
            "Unpacking fonts-nanum (20180306-3) ...\n",
            "Setting up fonts-nanum (20180306-3) ...\n",
            "Processing triggers for fontconfig (2.13.1-2ubuntu3) ...\n"
          ]
        }
      ]
    },
    {
      "cell_type": "code",
      "source": [
        "!fc-cache -fv"
      ],
      "metadata": {
        "colab": {
          "base_uri": "https://localhost:8080/"
        },
        "id": "aV7LrbRq7SxF",
        "outputId": "d53046c3-3e89-4751-a161-1f61d85b733a"
      },
      "execution_count": 2,
      "outputs": [
        {
          "output_type": "stream",
          "name": "stdout",
          "text": [
            "/usr/share/fonts: caching, new cache contents: 0 fonts, 1 dirs\n",
            "/usr/share/fonts/truetype: caching, new cache contents: 0 fonts, 3 dirs\n",
            "/usr/share/fonts/truetype/humor-sans: caching, new cache contents: 1 fonts, 0 dirs\n",
            "/usr/share/fonts/truetype/liberation: caching, new cache contents: 16 fonts, 0 dirs\n",
            "/usr/share/fonts/truetype/nanum: caching, new cache contents: 10 fonts, 0 dirs\n",
            "/usr/local/share/fonts: caching, new cache contents: 0 fonts, 0 dirs\n",
            "/root/.local/share/fonts: skipping, no such directory\n",
            "/root/.fonts: skipping, no such directory\n",
            "/usr/share/fonts/truetype: skipping, looped directory detected\n",
            "/usr/share/fonts/truetype/humor-sans: skipping, looped directory detected\n",
            "/usr/share/fonts/truetype/liberation: skipping, looped directory detected\n",
            "/usr/share/fonts/truetype/nanum: skipping, looped directory detected\n",
            "/var/cache/fontconfig: cleaning cache directory\n",
            "/root/.cache/fontconfig: not cleaning non-existent cache directory\n",
            "/root/.fontconfig: not cleaning non-existent cache directory\n",
            "fc-cache: succeeded\n"
          ]
        }
      ]
    },
    {
      "cell_type": "code",
      "source": [
        "!rm -rf ~/.cache/matplotlib"
      ],
      "metadata": {
        "id": "3SNoemK4768E"
      },
      "execution_count": 3,
      "outputs": []
    },
    {
      "cell_type": "code",
      "source": [
        "# 위 명령실행하여 한글폰트 패치완료 됨-> 다음부터는 아래 처럼 세팅하면 됨(/dev/null)\n",
        "\n",
        "!apt-get install -y fonts-nanum > /dev/null\n",
        "!fc-cache -fv> /dev/null\n",
        "!rm -rf ~/.cache/matplotlib\n",
        "# 런타임 다시 시작"
      ],
      "metadata": {
        "id": "V7lvZOsI8DF1"
      },
      "execution_count": null,
      "outputs": []
    },
    {
      "cell_type": "markdown",
      "source": [
        "- Colab 런타임 다시 시작후 여기부터 실행"
      ],
      "metadata": {
        "id": "VG02Kv9i8nO7"
      }
    },
    {
      "cell_type": "code",
      "source": [
        "import matplotlib.pyplot as plt\n",
        "plt.rcParams['font.family'] = 'NanumBarunGothic'"
      ],
      "metadata": {
        "id": "tjcwoXgc8u9S"
      },
      "execution_count": 1,
      "outputs": []
    },
    {
      "cell_type": "code",
      "source": [
        "plt.plot([0,1,2,3],[0,1,4,9])    # X, Y\n",
        "plt.title('라인플롯')            # 제목\n",
        "plt.grid()                       #격자선\n",
        "plt.show()"
      ],
      "metadata": {
        "colab": {
          "base_uri": "https://localhost:8080/",
          "height": 451
        },
        "id": "y3UVZbLf8494",
        "outputId": "aea5663d-8f83-4b39-ebe9-a5cd7dfe5484"
      },
      "execution_count": 2,
      "outputs": [
        {
          "output_type": "display_data",
          "data": {
            "text/plain": [
              "<Figure size 640x480 with 1 Axes>"
            ],
            "image/png": "[encoded data removed]"
          },
          "metadata": {}
        }
      ]
    },
    {
      "cell_type": "code",
      "source": [],
      "metadata": {
        "id": "dlSQlYp5899V"
      },
      "execution_count": null,
      "outputs": []
    }
  ]
}