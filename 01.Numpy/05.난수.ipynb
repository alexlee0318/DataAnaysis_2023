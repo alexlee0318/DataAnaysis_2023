{
 "cells": [
  {
   "cell_type": "code",
   "execution_count": null,
   "metadata": {},
   "outputs": [],
   "source": []
  },
  {
   "cell_type": "code",
   "execution_count": 1,
   "metadata": {},
   "outputs": [],
   "source": [
    "import numpy as np"
   ]
  },
  {
   "cell_type": "code",
   "execution_count": 5,
   "metadata": {},
   "outputs": [
    {
     "data": {
      "text/plain": [
       "array([0.3219883 , 0.89042245, 0.58805226, 0.12659609, 0.14134122])"
      ]
     },
     "execution_count": 5,
     "metadata": {},
     "output_type": "execute_result"
    }
   ],
   "source": [
    "np.random.seed(2023)\n",
    "np.random.random(5) # random이지만 seed번호(시작값) 지정"
   ]
  },
  {
   "cell_type": "code",
   "execution_count": 6,
   "metadata": {},
   "outputs": [
    {
     "data": {
      "text/plain": [
       "array([0, 1, 2, 3, 4, 5, 6, 7, 8, 9])"
      ]
     },
     "execution_count": 6,
     "metadata": {},
     "output_type": "execute_result"
    }
   ],
   "source": [
    "x = np.arange(10)\n",
    "x"
   ]
  },
  {
   "cell_type": "code",
   "execution_count": 7,
   "metadata": {},
   "outputs": [
    {
     "data": {
      "text/plain": [
       "array([7, 4, 3, 2, 8, 9, 1, 6, 0, 5])"
      ]
     },
     "execution_count": 7,
     "metadata": {},
     "output_type": "execute_result"
    }
   ],
   "source": [
    "np.random.shuffle(x)\n",
    "x"
   ]
  },
  {
   "attachments": {},
   "cell_type": "markdown",
   "metadata": {},
   "source": [
    "- 데이터의 샘플링 (데이터 가져오는 것)"
   ]
  },
  {
   "cell_type": "code",
   "execution_count": 9,
   "metadata": {},
   "outputs": [
    {
     "data": {
      "text/plain": [
       "array([4, 2, 1, 0, 3])"
      ]
     },
     "execution_count": 9,
     "metadata": {},
     "output_type": "execute_result"
    }
   ],
   "source": [
    "np.random.choice(5, 5, replace=False)"
   ]
  },
  {
   "cell_type": "code",
   "execution_count": 10,
   "metadata": {},
   "outputs": [
    {
     "data": {
      "text/plain": [
       "array([50, 50, 50, 54, 39, 71, 16, 89, 73, 48])"
      ]
     },
     "execution_count": 10,
     "metadata": {},
     "output_type": "execute_result"
    }
   ],
   "source": [
    "x = np.random.randint(1, 100, 10)\n",
    "x"
   ]
  },
  {
   "cell_type": "code",
   "execution_count": 11,
   "metadata": {},
   "outputs": [
    {
     "data": {
      "text/plain": [
       "array([50, 54, 50, 73, 48])"
      ]
     },
     "execution_count": 11,
     "metadata": {},
     "output_type": "execute_result"
    }
   ],
   "source": [
    "np.random.choice(x, 5, replace=False)"
   ]
  },
  {
   "attachments": {},
   "cell_type": "markdown",
   "metadata": {},
   "source": [
    "- 난수 생성"
   ]
  },
  {
   "cell_type": "code",
   "execution_count": 12,
   "metadata": {},
   "outputs": [
    {
     "data": {
      "text/plain": [
       "array([0.09702613, 0.81625998, 0.02808046, 0.01545164, 0.56690572,\n",
       "       0.59310305, 0.9147945 , 0.25066314, 0.07173657, 0.30121014])"
      ]
     },
     "execution_count": 12,
     "metadata": {},
     "output_type": "execute_result"
    }
   ],
   "source": [
    "# random() : Uniform 분포, 0~1 사이의 값\n",
    "np.random.random(10)"
   ]
  },
  {
   "cell_type": "code",
   "execution_count": 13,
   "metadata": {},
   "outputs": [
    {
     "data": {
      "text/plain": [
       "array([5, 4, 4, 1, 6, 4, 2, 6, 3, 4])"
      ]
     },
     "execution_count": 13,
     "metadata": {},
     "output_type": "execute_result"
    }
   ],
   "source": [
    "# randint(low, high, N) : [low, high)\n",
    "# low<= x < high에서 포함은 [, 미포함은 )로 표시 \n",
    "np.random.randint(1, 7, 10)"
   ]
  },
  {
   "cell_type": "code",
   "execution_count": 14,
   "metadata": {},
   "outputs": [
    {
     "data": {
      "text/plain": [
       "array([156.89599302, 176.76839882, 158.92016878, 184.48954679,\n",
       "       159.75379517, 180.52417547, 177.7632241 , 178.26794973,\n",
       "       172.40028585, 188.98243469])"
      ]
     },
     "execution_count": 14,
     "metadata": {},
     "output_type": "execute_result"
    }
   ],
   "source": [
    "# normal(평균, 표준편차, N) - 정규분포\n",
    "np.random.normal(170, 10, 10)"
   ]
  },
  {
   "cell_type": "code",
   "execution_count": 15,
   "metadata": {},
   "outputs": [
    {
     "data": {
      "text/plain": [
       "array([ 0.36683324,  0.81473231,  0.07235438,  0.6012461 , -1.727901  ,\n",
       "        0.23404311, -0.01310212, -1.44489043, -1.29733638, -2.03158937])"
      ]
     },
     "execution_count": 15,
     "metadata": {},
     "output_type": "execute_result"
    }
   ],
   "source": [
    "# randn(N) - 표준정규분포 N(0, 1)\n",
    "np.random.randn(10)"
   ]
  },
  {
   "cell_type": "code",
   "execution_count": 16,
   "metadata": {},
   "outputs": [
    {
     "data": {
      "text/plain": [
       "array([[8, 7, 2, 4, 6],\n",
       "       [4, 3, 6, 4, 5],\n",
       "       [2, 4, 6, 7, 2],\n",
       "       [6, 6, 5, 6, 5]])"
      ]
     },
     "execution_count": 16,
     "metadata": {},
     "output_type": "execute_result"
    }
   ],
   "source": [
    "# binomi(시도횟수, 평균, N) - 이항분포 B(N, p)\n",
    "# ex 동전던지기(앞면이 나올 확률은 던지는 횟수가 증가할 수록 평균 0.5(50%확률)에 수렴)\n",
    "np.random.binomial(10, 0.5, 20).reshape(4, 5)\n"
   ]
  },
  {
   "attachments": {},
   "cell_type": "markdown",
   "metadata": {},
   "source": [
    "# 가설 검정: t - 검정\n",
    "# 우유 1000ml로  원샘플t\n",
    "# 지금과 20년 전 7세 아동의 키 비교: 투샘플 t \n",
    "# 두 약으로 전후비교 : 페어드 t 테스트"
   ]
  },
  {
   "cell_type": "code",
   "execution_count": 17,
   "metadata": {},
   "outputs": [
    {
     "data": {
      "text/plain": [
       "array([-0.53206837, -0.22784308, -2.06707851,  0.97846344,  1.03677625,\n",
       "       -1.63268272, -0.9087145 ,  3.46933835, -0.46213729, -0.21273215])"
      ]
     },
     "execution_count": 17,
     "metadata": {},
     "output_type": "execute_result"
    }
   ],
   "source": [
    "# 가설 검정: t - 검정\n",
    "# standard_t(자유도 ,N)\n",
    "np.random.standard_t(2, 10) # 자유도 2, 값 10개 출력"
   ]
  },
  {
   "attachments": {},
   "cell_type": "markdown",
   "metadata": {},
   "source": [
    "```{admonition} 연습 문제 3.5.1\n",
    "1. 동전을 10번 던져 앞면(숫자 1)과 뒷면(숫자 0)이 나오는 가상 실험을 파이썬으로 작성한다.\n",
    "```"
   ]
  },
  {
   "cell_type": "code",
   "execution_count": 21,
   "metadata": {},
   "outputs": [
    {
     "data": {
      "text/plain": [
       "array([0, 0, 0, 0, 1, 0, 1, 1, 1, 0])"
      ]
     },
     "execution_count": 21,
     "metadata": {},
     "output_type": "execute_result"
    }
   ],
   "source": [
    "np.random.binomial(1, 0.5, 10)  # 1번 던질 때 0.5확률일 때 10번 던진 결과"
   ]
  },
  {
   "cell_type": "markdown",
   "metadata": {},
   "source": [
    "```{admonition} 연습 문제 3.5.1\n",
    "2. 주사위를 100번 던져서 나오는 숫자의 평균을 구하라.\n",
    "```"
   ]
  },
  {
   "cell_type": "code",
   "execution_count": 26,
   "metadata": {},
   "outputs": [
    {
     "data": {
      "text/plain": [
       "3.53"
      ]
     },
     "execution_count": 26,
     "metadata": {},
     "output_type": "execute_result"
    }
   ],
   "source": [
    "# randint(low, high, N)\n",
    "np.mean(np.random.randint(1, 7, 100))   # 1~6의 수를 100번 돌린 값의 평균\n"
   ]
  },
  {
   "attachments": {},
   "cell_type": "markdown",
   "metadata": {},
   "source": [
    "```\n",
    "가격이 10,000원인 주식이 있다.\n",
    "이 주식의 일간 수익률(%)은 기댓값이 0%이고 표준편차가 1%인 표준 정규 분포를 따른다고 하자.\n",
    "250일 동안의 주가를 무작위로 생성하라\n",
    "**힌트\n",
    "정규분포 : normal(평균, 표준편차, N)\n",
    "기대값 0% = 평균 0.01 \n",
    "```"
   ]
  },
  {
   "cell_type": "code",
   "execution_count": 35,
   "metadata": {},
   "outputs": [
    {
     "data": {
      "text/plain": [
       "array([-0.00308421, -0.00128917, -0.01824254,  0.01289619, -0.00371933])"
      ]
     },
     "execution_count": 35,
     "metadata": {},
     "output_type": "execute_result"
    }
   ],
   "source": [
    "# 1) 5개만 먼저 테스트하기\n",
    "rate = np.random.normal(0, 0.01, 5)\n",
    "rate"
   ]
  },
  {
   "cell_type": "code",
   "execution_count": 37,
   "metadata": {},
   "outputs": [
    {
     "data": {
      "text/plain": [
       "9969"
      ]
     },
     "execution_count": 37,
     "metadata": {},
     "output_type": "execute_result"
    }
   ],
   "source": [
    "price = 10000\n",
    "price = price + price * rate[0] # price * (1 + rate[0])\n",
    "int(np.round(price))"
   ]
  },
  {
   "cell_type": "code",
   "execution_count": 39,
   "metadata": {},
   "outputs": [
    {
     "name": "stdout",
     "output_type": "stream",
     "text": [
      "9969 9956 9774 9900 9863 "
     ]
    }
   ],
   "source": [
    "price = 10000\n",
    "for i in range(5):\n",
    "    price = price * (1 + rate[i])\n",
    "    price = int(np.round(price))\n",
    "    print(price, end=' ')"
   ]
  },
  {
   "cell_type": "code",
   "execution_count": 40,
   "metadata": {},
   "outputs": [
    {
     "data": {
      "text/plain": [
       "array([ 0.00711674, -0.00324485, -0.01001871,  0.00236251, -0.0010216 ])"
      ]
     },
     "execution_count": 40,
     "metadata": {},
     "output_type": "execute_result"
    }
   ],
   "source": [
    "# list로 해결\n",
    "np.random.seed(2023)\n",
    "rate = np.random.normal(0, 0.01, 250)\n",
    "rate[:5]"
   ]
  },
  {
   "cell_type": "code",
   "execution_count": 42,
   "metadata": {},
   "outputs": [
    {
     "data": {
      "text/plain": [
       "array([10814, 10893, 10674, 10645, 10588, 10724, 10739, 10686, 10691,\n",
       "       10497])"
      ]
     },
     "execution_count": 42,
     "metadata": {},
     "output_type": "execute_result"
    }
   ],
   "source": [
    "# list로 해결\n",
    "price = 10000\n",
    "price_list = []\n",
    "for i in range(250):\n",
    "    price = price * (1 + rate[i])\n",
    "    price = int(np.round(price))\n",
    "    price_list.append(price)\n",
    "\n",
    "price_array = np.array(price_list)\n",
    "price_array[-10:]"
   ]
  },
  {
   "cell_type": "code",
   "execution_count": 44,
   "metadata": {},
   "outputs": [
    {
     "data": {
      "text/plain": [
       "array([10814, 10893, 10674, 10645, 10588, 10724, 10739, 10686, 10691,\n",
       "       10497])"
      ]
     },
     "execution_count": 44,
     "metadata": {},
     "output_type": "execute_result"
    }
   ],
   "source": [
    "# 2. array로 해결\n",
    "price_array2 = np.zeros(250, dtype=int)\n",
    "price = 10000\n",
    "for i in range(250):\n",
    "    price = price * (1 + rate[i])\n",
    "    price = int(np.round(price))\n",
    "    price_array2[i] = price\n",
    "\n",
    "price_array2[-10:]"
   ]
  },
  {
   "attachments": {},
   "cell_type": "markdown",
   "metadata": {},
   "source": [
    "- 데이터 카운팅(정수)"
   ]
  },
  {
   "attachments": {},
   "cell_type": "markdown",
   "metadata": {},
   "source": [
    "```연습 문제\n",
    "주사위의 결과값의 평균 구하기\n",
    "```"
   ]
  },
  {
   "cell_type": "code",
   "execution_count": 46,
   "metadata": {},
   "outputs": [
    {
     "data": {
      "text/plain": [
       "array([1, 2, 3, 4, 5, 6])"
      ]
     },
     "execution_count": 46,
     "metadata": {},
     "output_type": "execute_result"
    }
   ],
   "source": [
    "dices = np.random.randint(1, 7, 100)\n",
    "np.unique(dices)    # 데이터에서 unique(고유한 값) 몇개?"
   ]
  },
  {
   "cell_type": "code",
   "execution_count": 56,
   "metadata": {},
   "outputs": [
    {
     "data": {
      "text/plain": [
       "(array([1, 2, 3, 4, 5, 6]), array([13, 28, 17, 13, 13, 16], dtype=int64))"
      ]
     },
     "execution_count": 56,
     "metadata": {},
     "output_type": "execute_result"
    }
   ],
   "source": [
    "indices, count = np.unique(dices, return_counts=True)\n",
    "indices, count\n"
   ]
  },
  {
   "cell_type": "code",
   "execution_count": 62,
   "metadata": {},
   "outputs": [
    {
     "data": {
      "text/plain": [
       "3.33"
      ]
     },
     "execution_count": 62,
     "metadata": {},
     "output_type": "execute_result"
    }
   ],
   "source": [
    "d1= indices * count\n",
    "np.sum(d1) / np.sum(count)"
   ]
  },
  {
   "cell_type": "code",
   "execution_count": 64,
   "metadata": {},
   "outputs": [],
   "source": [
    "a = np.array(['a', 'b', 'b', 'c', 'a'])\n",
    "index, count = np.unique(a, return_counts=True)"
   ]
  },
  {
   "cell_type": "code",
   "execution_count": 65,
   "metadata": {},
   "outputs": [
    {
     "data": {
      "text/plain": [
       "(array(['a', 'b', 'c'], dtype='<U1'), array([2, 2, 1], dtype=int64))"
      ]
     },
     "execution_count": 65,
     "metadata": {},
     "output_type": "execute_result"
    }
   ],
   "source": [
    "index, count"
   ]
  },
  {
   "cell_type": "code",
   "execution_count": 67,
   "metadata": {},
   "outputs": [
    {
     "data": {
      "text/plain": [
       "array([ 0, 13, 28, 17, 13, 13, 16], dtype=int64)"
      ]
     },
     "execution_count": 67,
     "metadata": {},
     "output_type": "execute_result"
    }
   ],
   "source": [
    "# xxx잘 활용 안 함 xxx\n",
    "np.bincount(dices, minlength=6)"
   ]
  },
  {
   "cell_type": "code",
   "execution_count": null,
   "metadata": {},
   "outputs": [],
   "source": []
  }
 ],
 "metadata": {
  "kernelspec": {
   "display_name": "base",
   "language": "python",
   "name": "python3"
  },
  "language_info": {
   "codemirror_mode": {
    "name": "ipython",
    "version": 3
   },
   "file_extension": ".py",
   "mimetype": "text/x-python",
   "name": "python",
   "nbconvert_exporter": "python",
   "pygments_lexer": "ipython3",
   "version": "3.10.10"
  },
  "orig_nbformat": 4
 },
 "nbformat": 4,
 "nbformat_minor": 2
}
